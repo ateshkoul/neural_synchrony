{
 "cells": [
  {
   "cell_type": "code",
   "execution_count": 1,
   "id": "amateur-light",
   "metadata": {},
   "outputs": [
    {
     "name": "stdout",
     "output_type": "stream",
     "text": [
      "Running on PyMC3 v3.11.2\n"
     ]
    }
   ],
   "source": [
    "import pdb\n",
    "\n",
    "\n",
    "import arviz as az\n",
    "import matplotlib.pyplot as plt\n",
    "import numpy as np\n",
    "import pandas as pd\n",
    "import pymc3 as pm\n",
    "import theano\n",
    "import pandas as pd\n",
    "print(f\"Running on PyMC3 v{pm.__version__}\")\n",
    "%config InlineBackend.figure_format = 'retina'\n",
    "az.style.use(\"arviz-darkgrid\")"
   ]
  },
  {
   "cell_type": "code",
   "execution_count": 2,
   "id": "exceptional-hurricane",
   "metadata": {},
   "outputs": [],
   "source": [
    "samples = 2500\n",
    "tune = 2500"
   ]
  },
  {
   "cell_type": "code",
   "execution_count": 3,
   "id": "instructional-incident",
   "metadata": {},
   "outputs": [
    {
     "name": "stderr",
     "output_type": "stream",
     "text": [
      "<ipython-input-3-d4e41724a3b0>:5: UserWarning: Pandas doesn't allow columns to be created via a new attribute name - see https://pandas.pydata.org/pandas-docs/stable/indexing.html#attribute-access\n",
      "  data_clust1_AND.condition = data_clust1_AND.condition_Smile_auto.str.split(\"_\",n=1, expand = True)[1]\n"
     ]
    }
   ],
   "source": [
    "# data = pd.read_csv('test_lme_data.csv')\n",
    "data_clust1_AND = pd.read_csv('FaNoOcc_NeNoOcc_insta_abs_detrend_lme_smile_cluster_beta_data_AND_ori.csv')\n",
    "# data_clust1.head()\n",
    "# data = data.iloc[0:7000,]\n",
    "data_clust1_AND.condition = data_clust1_AND.condition_Smile_auto.str.split(\"_\",n=1, expand = True)[1]\n",
    "data_clust1_AND.condition = data_clust1_AND.condition.astype('int')"
   ]
  },
  {
   "cell_type": "code",
   "execution_count": 4,
   "id": "silent-illinois",
   "metadata": {},
   "outputs": [
    {
     "name": "stderr",
     "output_type": "stream",
     "text": [
      "<ipython-input-4-9dde6c86d92d>:36: FutureWarning: In v4.0, pm.sample will return an `arviz.InferenceData` object instead of a `MultiTrace` by default. You can pass return_inferencedata=True or return_inferencedata=False to be safe and silence this warning.\n",
      "  hierarchical_trace_clust_1_AND = pm.sample(samples, tune=tune, target_accept=0.99)\n",
      "Auto-assigning NUTS sampler...\n",
      "Initializing NUTS using jitter+adapt_diag...\n",
      "Multiprocess sampling (4 chains in 4 jobs)\n",
      "NUTS: [eps, mov, mouth_size, eye_gaze, intercept, sigma_mov, mu_mov, sigma_mouth_size, mu_mouth_size, sigma_eye_gaze, mu_eye_gaze, sigma_intercept, mu_intercept]\n"
     ]
    },
    {
     "data": {
      "text/html": [
       "\n",
       "    <div>\n",
       "        <style>\n",
       "            /* Turns off some styling */\n",
       "            progress {\n",
       "                /* gets rid of default border in Firefox and Opera. */\n",
       "                border: none;\n",
       "                /* Needs to be in here for Safari polyfill so background images work as expected. */\n",
       "                background-size: auto;\n",
       "            }\n",
       "            .progress-bar-interrupted, .progress-bar-interrupted::-webkit-progress-bar {\n",
       "                background: #F44336;\n",
       "            }\n",
       "        </style>\n",
       "      <progress value='20000' class='' max='20000' style='width:300px; height:20px; vertical-align: middle;'></progress>\n",
       "      100.00% [20000/20000 12:11:01<00:00 Sampling 4 chains, 52 divergences]\n",
       "    </div>\n",
       "    "
      ],
      "text/plain": [
       "<IPython.core.display.HTML object>"
      ]
     },
     "metadata": {},
     "output_type": "display_data"
    },
    {
     "name": "stderr",
     "output_type": "stream",
     "text": [
      "Sampling 4 chains for 2_500 tune and 2_500 draw iterations (10_000 + 10_000 draws total) took 43878 seconds.\n",
      "There were 6 divergences after tuning. Increase `target_accept` or reparameterize.\n",
      "There were 14 divergences after tuning. Increase `target_accept` or reparameterize.\n",
      "There were 17 divergences after tuning. Increase `target_accept` or reparameterize.\n",
      "There were 15 divergences after tuning. Increase `target_accept` or reparameterize.\n",
      "The rhat statistic is larger than 1.05 for some parameters. This indicates slight problems during sampling.\n",
      "The estimated number of effective samples is smaller than 200 for some parameters.\n"
     ]
    }
   ],
   "source": [
    "n_dyads = len(data_clust1_AND.Dyad_no_Eye_tracker_gaze.unique())\n",
    "dyad_idx = np.array(data_clust1_AND.Dyad_no_Eye_tracker_gaze.str.split(\"_\",n=1, expand = True)[1],dtype='int64')-1\n",
    "\n",
    "with pm.Model() as hierarchical_model_clust_1_AND:\n",
    "    # Hyperpriors for group nodes\n",
    "    mu_intercept = pm.Normal(\"mu_intercept\", mu=0.0, sigma=100)\n",
    "    sigma_intercept = pm.HalfNormal(\"sigma_intercept\", 5.0)\n",
    "    mu_eye_gaze = pm.Normal(\"mu_eye_gaze\", mu=0.0, sigma=100)\n",
    "    sigma_eye_gaze = pm.HalfNormal(\"sigma_eye_gaze\", 5.0)    \n",
    "  \n",
    "    mu_mouth_size = pm.Normal(\"mu_mouth_size\", mu=0.0, sigma=100)\n",
    "    sigma_mouth_size = pm.HalfNormal(\"sigma_mouth_size\", 5.0)  \n",
    "    \n",
    "    mu_mov = pm.Normal(\"mu_mov\", mu=0.0, sigma=100)\n",
    "    sigma_mov = pm.HalfNormal(\"sigma_mov\", 5.0)     \n",
    "    \n",
    "    \n",
    "    # Intercept for each county, distributed around group mean mu_a\n",
    "    # Above we just set mu and sd to a fixed value while here we\n",
    "    # plug in a common group distribution for all a and b (which are\n",
    "    # vectors of length n_counties).\n",
    "    intercept = pm.Normal(\"intercept\", mu=mu_intercept, sigma=sigma_intercept, shape=n_dyads)\n",
    "    # Intercept for each county, distributed around group mean mu_a\n",
    "    eye_gaze = pm.Normal(\"eye_gaze\", mu=mu_eye_gaze, sigma=sigma_eye_gaze, shape=n_dyads)\n",
    "    mouth_size = pm.Normal(\"mouth_size\", mu=mu_mouth_size, sigma=sigma_mouth_size, shape=n_dyads)\n",
    "    mov = pm.Normal(\"mov\", mu=mu_mov, sigma=sigma_mov, shape=n_dyads)\n",
    "    # Model error\n",
    "    eps = pm.HalfCauchy(\"eps\", 5.0)\n",
    "    #pdb.set_trace()\n",
    "    feature_est = intercept[dyad_idx]  +  eye_gaze[dyad_idx] * data_clust1_AND.Fun_eyeface_joint.values + mouth_size[dyad_idx] * data_clust1_AND.Fun_mouth_size_joint.values +  mov[dyad_idx] * data_clust1_AND.Fun_ALL_joint.values\n",
    "#     feature_est = intercept[dyad_idx] \n",
    "\n",
    "    # Data likelihood\n",
    "    feature_like = pm.Normal(\"feature_like\", mu=feature_est, sigma=eps, observed=data_clust1_AND.chan_freq_data)\n",
    "#     hierarchical_trace_clust_1_null = pm.sample(5000, tune=5000, target_accept=0.99)\n",
    "    hierarchical_trace_clust_1_AND = pm.sample(samples, tune=tune, target_accept=0.99)"
   ]
  },
  {
   "cell_type": "code",
   "execution_count": 5,
   "id": "ancient-invite",
   "metadata": {},
   "outputs": [],
   "source": [
    "#8\n",
    "hierarchical_trace_clust_1_AND_save = pm.save_trace(hierarchical_trace_clust_1_AND,directory='.model_clust_1_binary_insta_abs_detrend_AND_2500_ori.trace')    "
   ]
  },
  {
   "cell_type": "code",
   "execution_count": 6,
   "id": "wrong-present",
   "metadata": {},
   "outputs": [],
   "source": [
    "# az.rhat(hierarchical_trace_clust_1_AND)"
   ]
  },
  {
   "cell_type": "code",
   "execution_count": 7,
   "id": "swiss-frank",
   "metadata": {},
   "outputs": [
    {
     "name": "stderr",
     "output_type": "stream",
     "text": [
      "<ipython-input-7-d0d069bbd91c>:5: UserWarning: Pandas doesn't allow columns to be created via a new attribute name - see https://pandas.pydata.org/pandas-docs/stable/indexing.html#attribute-access\n",
      "  data_clust1_XOR.condition = data_clust1_XOR.condition_Smile_auto.str.split(\"_\",n=1, expand = True)[1]\n"
     ]
    }
   ],
   "source": [
    "# data = pd.read_csv('test_lme_data.csv')\n",
    "data_clust1_XOR = pd.read_csv('FaNoOcc_NeNoOcc_insta_abs_detrend_lme_smile_cluster_beta_data_XOR_ori.csv')\n",
    "# data_clust1.head()\n",
    "# data = data.iloc[0:7000,]\n",
    "data_clust1_XOR.condition = data_clust1_XOR.condition_Smile_auto.str.split(\"_\",n=1, expand = True)[1]\n",
    "data_clust1_XOR.condition = data_clust1_XOR.condition.astype('int')"
   ]
  },
  {
   "cell_type": "code",
   "execution_count": 8,
   "id": "handed-legislature",
   "metadata": {},
   "outputs": [
    {
     "name": "stderr",
     "output_type": "stream",
     "text": [
      "<ipython-input-8-f90d7f4daa1b>:36: FutureWarning: In v4.0, pm.sample will return an `arviz.InferenceData` object instead of a `MultiTrace` by default. You can pass return_inferencedata=True or return_inferencedata=False to be safe and silence this warning.\n",
      "  hierarchical_trace_clust_1_XOR = pm.sample(samples, tune=tune, target_accept=0.99)\n",
      "Auto-assigning NUTS sampler...\n",
      "Initializing NUTS using jitter+adapt_diag...\n",
      "Multiprocess sampling (4 chains in 4 jobs)\n",
      "NUTS: [eps, mov, mouth_size, eye_gaze, intercept, sigma_mov, mu_mov, sigma_mouth_size, mu_mouth_size, sigma_eye_gaze, mu_eye_gaze, sigma_intercept, mu_intercept]\n"
     ]
    },
    {
     "data": {
      "text/html": [
       "\n",
       "    <div>\n",
       "        <style>\n",
       "            /* Turns off some styling */\n",
       "            progress {\n",
       "                /* gets rid of default border in Firefox and Opera. */\n",
       "                border: none;\n",
       "                /* Needs to be in here for Safari polyfill so background images work as expected. */\n",
       "                background-size: auto;\n",
       "            }\n",
       "            .progress-bar-interrupted, .progress-bar-interrupted::-webkit-progress-bar {\n",
       "                background: #F44336;\n",
       "            }\n",
       "        </style>\n",
       "      <progress value='20000' class='' max='20000' style='width:300px; height:20px; vertical-align: middle;'></progress>\n",
       "      100.00% [20000/20000 21:00:10<00:00 Sampling 4 chains, 196 divergences]\n",
       "    </div>\n",
       "    "
      ],
      "text/plain": [
       "<IPython.core.display.HTML object>"
      ]
     },
     "metadata": {},
     "output_type": "display_data"
    },
    {
     "name": "stderr",
     "output_type": "stream",
     "text": [
      "Sampling 4 chains for 2_500 tune and 2_500 draw iterations (10_000 + 10_000 draws total) took 75641 seconds.\n",
      "There were 20 divergences after tuning. Increase `target_accept` or reparameterize.\n",
      "There were 146 divergences after tuning. Increase `target_accept` or reparameterize.\n",
      "The acceptance probability does not match the target. It is 0.9482377495175797, but should be close to 0.99. Try to increase the number of tuning steps.\n",
      "There was 1 divergence after tuning. Increase `target_accept` or reparameterize.\n",
      "The chain reached the maximum tree depth. Increase max_treedepth, increase target_accept or reparameterize.\n",
      "There were 29 divergences after tuning. Increase `target_accept` or reparameterize.\n",
      "The acceptance probability does not match the target. It is 0.971694376955983, but should be close to 0.99. Try to increase the number of tuning steps.\n",
      "The estimated number of effective samples is smaller than 200 for some parameters.\n"
     ]
    }
   ],
   "source": [
    "n_dyads = len(data_clust1_XOR.Dyad_no_Eye_tracker_gaze.unique())\n",
    "dyad_idx = np.array(data_clust1_XOR.Dyad_no_Eye_tracker_gaze.str.split(\"_\",n=1, expand = True)[1],dtype='int64')-1\n",
    "\n",
    "with pm.Model() as hierarchical_model_clust_1_XOR:\n",
    "    # Hyperpriors for group nodes\n",
    "    mu_intercept = pm.Normal(\"mu_intercept\", mu=0.0, sigma=100)\n",
    "    sigma_intercept = pm.HalfNormal(\"sigma_intercept\", 5.0)\n",
    "    mu_eye_gaze = pm.Normal(\"mu_eye_gaze\", mu=0.0, sigma=100)\n",
    "    sigma_eye_gaze = pm.HalfNormal(\"sigma_eye_gaze\", 5.0)    \n",
    "  \n",
    "    mu_mouth_size = pm.Normal(\"mu_mouth_size\", mu=0.0, sigma=100)\n",
    "    sigma_mouth_size = pm.HalfNormal(\"sigma_mouth_size\", 5.0)  \n",
    "    \n",
    "    mu_mov = pm.Normal(\"mu_mov\", mu=0.0, sigma=100)\n",
    "    sigma_mov = pm.HalfNormal(\"sigma_mov\", 5.0)     \n",
    "    \n",
    "    \n",
    "    # Intercept for each county, distributed around group mean mu_a\n",
    "    # Above we just set mu and sd to a fixed value while here we\n",
    "    # plug in a common group distribution for all a and b (which are\n",
    "    # vectors of length n_counties).\n",
    "    intercept = pm.Normal(\"intercept\", mu=mu_intercept, sigma=sigma_intercept, shape=n_dyads)\n",
    "    # Intercept for each county, distributed around group mean mu_a\n",
    "    eye_gaze = pm.Normal(\"eye_gaze\", mu=mu_eye_gaze, sigma=sigma_eye_gaze, shape=n_dyads)\n",
    "    mouth_size = pm.Normal(\"mouth_size\", mu=mu_mouth_size, sigma=sigma_mouth_size, shape=n_dyads)\n",
    "    mov = pm.Normal(\"mov\", mu=mu_mov, sigma=sigma_mov, shape=n_dyads)\n",
    "    # Model error\n",
    "    eps = pm.HalfCauchy(\"eps\", 5.0)\n",
    "    #pdb.set_trace()\n",
    "    feature_est = intercept[dyad_idx]  +  eye_gaze[dyad_idx] * data_clust1_XOR.Fun_eyeface_joint.values + mouth_size[dyad_idx] * data_clust1_XOR.Fun_mouth_size_joint.values +  mov[dyad_idx] * data_clust1_XOR.Fun_ALL_joint.values\n",
    "#     feature_est = intercept[dyad_idx] \n",
    "\n",
    "    # Data likelihood\n",
    "    feature_like = pm.Normal(\"feature_like\", mu=feature_est, sigma=eps, observed=data_clust1_XOR.chan_freq_data)\n",
    "#     hierarchical_trace_clust_1_null = pm.sample(5000, tune=5000, target_accept=0.99)\n",
    "    hierarchical_trace_clust_1_XOR = pm.sample(samples, tune=tune, target_accept=0.99)"
   ]
  },
  {
   "cell_type": "code",
   "execution_count": 9,
   "id": "fitted-window",
   "metadata": {},
   "outputs": [],
   "source": [
    "hierarchical_trace_clust_1_XOR_save = pm.save_trace(hierarchical_trace_clust_1_XOR,directory='.model_clust_1_binary_insta_abs_detrend_XOR_2500_ori.trace')    "
   ]
  },
  {
   "cell_type": "code",
   "execution_count": 10,
   "id": "blank-marriage",
   "metadata": {},
   "outputs": [],
   "source": [
    "# hierarchical_trace_clust_1_AND_az_model = az.from_pymc3(hierarchical_trace_clust_1_AND)\n",
    "# hierarchical_trace_clust_1_XOR_az_model = az.from_pymc3(hierarchical_trace_clust_1_XOR)\n",
    "# df_comp_loo_1 = az.compare({\"AND\": hierarchical_trace_clust_1_AND_az_model, \"XOR\": hierarchical_trace_clust_1_XOR_az_model})\n",
    "# df_comp_loo_1\n"
   ]
  },
  {
   "cell_type": "code",
   "execution_count": 11,
   "id": "therapeutic-bandwidth",
   "metadata": {},
   "outputs": [],
   "source": [
    "# az.rhat(hierarchical_trace_clust_1_XOR)"
   ]
  },
  {
   "cell_type": "code",
   "execution_count": 12,
   "id": "tight-louisville",
   "metadata": {},
   "outputs": [
    {
     "name": "stderr",
     "output_type": "stream",
     "text": [
      "<ipython-input-12-45d9b3f77de3>:5: UserWarning: Pandas doesn't allow columns to be created via a new attribute name - see https://pandas.pydata.org/pandas-docs/stable/indexing.html#attribute-access\n",
      "  data_clust2_AND.condition = data_clust2_AND.condition_Smile_auto.str.split(\"_\",n=1, expand = True)[1]\n"
     ]
    }
   ],
   "source": [
    "# data = pd.read_csv('test_lme_data.csv')\n",
    "data_clust2_AND = pd.read_csv('FaNoOcc_NeNoOcc_insta_abs_detrend_lme_smile_cluster_gamma_data_AND_ori.csv')\n",
    "# data_clust1.head()\n",
    "# data = data.iloc[0:7000,]\n",
    "data_clust2_AND.condition = data_clust2_AND.condition_Smile_auto.str.split(\"_\",n=1, expand = True)[1]\n",
    "data_clust2_AND.condition = data_clust2_AND.condition.astype('int')"
   ]
  },
  {
   "cell_type": "code",
   "execution_count": 13,
   "id": "commercial-extent",
   "metadata": {},
   "outputs": [
    {
     "name": "stderr",
     "output_type": "stream",
     "text": [
      "<ipython-input-13-e015afd12281>:36: FutureWarning: In v4.0, pm.sample will return an `arviz.InferenceData` object instead of a `MultiTrace` by default. You can pass return_inferencedata=True or return_inferencedata=False to be safe and silence this warning.\n",
      "  hierarchical_trace_clust_2_AND = pm.sample(samples, tune=tune, target_accept=0.99)\n",
      "Auto-assigning NUTS sampler...\n",
      "Initializing NUTS using jitter+adapt_diag...\n",
      "Multiprocess sampling (4 chains in 4 jobs)\n",
      "NUTS: [eps, mov, mouth_size, eye_gaze, intercept, sigma_mov, mu_mov, sigma_mouth_size, mu_mouth_size, sigma_eye_gaze, mu_eye_gaze, sigma_intercept, mu_intercept]\n"
     ]
    },
    {
     "data": {
      "text/html": [
       "\n",
       "    <div>\n",
       "        <style>\n",
       "            /* Turns off some styling */\n",
       "            progress {\n",
       "                /* gets rid of default border in Firefox and Opera. */\n",
       "                border: none;\n",
       "                /* Needs to be in here for Safari polyfill so background images work as expected. */\n",
       "                background-size: auto;\n",
       "            }\n",
       "            .progress-bar-interrupted, .progress-bar-interrupted::-webkit-progress-bar {\n",
       "                background: #F44336;\n",
       "            }\n",
       "        </style>\n",
       "      <progress value='20000' class='' max='20000' style='width:300px; height:20px; vertical-align: middle;'></progress>\n",
       "      100.00% [20000/20000 4:18:58<00:00 Sampling 4 chains, 7 divergences]\n",
       "    </div>\n",
       "    "
      ],
      "text/plain": [
       "<IPython.core.display.HTML object>"
      ]
     },
     "metadata": {},
     "output_type": "display_data"
    },
    {
     "name": "stderr",
     "output_type": "stream",
     "text": [
      "Sampling 4 chains for 2_500 tune and 2_500 draw iterations (10_000 + 10_000 draws total) took 15559 seconds.\n",
      "There was 1 divergence after tuning. Increase `target_accept` or reparameterize.\n",
      "There were 6 divergences after tuning. Increase `target_accept` or reparameterize.\n",
      "The number of effective samples is smaller than 10% for some parameters.\n"
     ]
    }
   ],
   "source": [
    "n_dyads = len(data_clust2_AND.Dyad_no_Eye_tracker_gaze.unique())\n",
    "dyad_idx = np.array(data_clust2_AND.Dyad_no_Eye_tracker_gaze.str.split(\"_\",n=1, expand = True)[1],dtype='int64')-1\n",
    "\n",
    "with pm.Model() as hierarchical_model_clust_2_AND:\n",
    "    # Hyperpriors for group nodes\n",
    "    mu_intercept = pm.Normal(\"mu_intercept\", mu=0.0, sigma=100)\n",
    "    sigma_intercept = pm.HalfNormal(\"sigma_intercept\", 5.0)\n",
    "    mu_eye_gaze = pm.Normal(\"mu_eye_gaze\", mu=0.0, sigma=100)\n",
    "    sigma_eye_gaze = pm.HalfNormal(\"sigma_eye_gaze\", 5.0)    \n",
    "  \n",
    "    mu_mouth_size = pm.Normal(\"mu_mouth_size\", mu=0.0, sigma=100)\n",
    "    sigma_mouth_size = pm.HalfNormal(\"sigma_mouth_size\", 5.0)  \n",
    "    \n",
    "    mu_mov = pm.Normal(\"mu_mov\", mu=0.0, sigma=100)\n",
    "    sigma_mov = pm.HalfNormal(\"sigma_mov\", 5.0)     \n",
    "    \n",
    "    \n",
    "    # Intercept for each county, distributed around group mean mu_a\n",
    "    # Above we just set mu and sd to a fixed value while here we\n",
    "    # plug in a common group distribution for all a and b (which are\n",
    "    # vectors of length n_counties).\n",
    "    intercept = pm.Normal(\"intercept\", mu=mu_intercept, sigma=sigma_intercept, shape=n_dyads)\n",
    "    # Intercept for each county, distributed around group mean mu_a\n",
    "    eye_gaze = pm.Normal(\"eye_gaze\", mu=mu_eye_gaze, sigma=sigma_eye_gaze, shape=n_dyads)\n",
    "    mouth_size = pm.Normal(\"mouth_size\", mu=mu_mouth_size, sigma=sigma_mouth_size, shape=n_dyads)\n",
    "    mov = pm.Normal(\"mov\", mu=mu_mov, sigma=sigma_mov, shape=n_dyads)\n",
    "    # Model error\n",
    "    eps = pm.HalfCauchy(\"eps\", 5.0)\n",
    "    #pdb.set_trace()\n",
    "    feature_est = intercept[dyad_idx]  +  eye_gaze[dyad_idx] * data_clust2_AND.Fun_eyeface_joint.values + mouth_size[dyad_idx] * data_clust2_AND.Fun_mouth_size_joint.values +  mov[dyad_idx] * data_clust2_AND.Fun_ALL_joint.values\n",
    "#     feature_est = intercept[dyad_idx] \n",
    "\n",
    "    # Data likelihood\n",
    "    feature_like = pm.Normal(\"feature_like\", mu=feature_est, sigma=eps, observed=data_clust2_AND.chan_freq_data)\n",
    "#     hierarchical_trace_clust_1_null = pm.sample(5000, tune=5000, target_accept=0.99)\n",
    "    hierarchical_trace_clust_2_AND = pm.sample(samples, tune=tune, target_accept=0.99)"
   ]
  },
  {
   "cell_type": "code",
   "execution_count": 14,
   "id": "dental-timothy",
   "metadata": {},
   "outputs": [],
   "source": [
    "hierarchical_trace_clust_2_AND_save = pm.save_trace(hierarchical_trace_clust_2_AND,directory='.model_clust_2_binary_insta_abs_detrend_AND_2500_ori.trace')    "
   ]
  },
  {
   "cell_type": "code",
   "execution_count": 15,
   "id": "lasting-postcard",
   "metadata": {},
   "outputs": [],
   "source": [
    "# az.rhat(hierarchical_trace_clust_2_AND)"
   ]
  },
  {
   "cell_type": "code",
   "execution_count": 16,
   "id": "exterior-climb",
   "metadata": {},
   "outputs": [
    {
     "name": "stderr",
     "output_type": "stream",
     "text": [
      "<ipython-input-16-df49e33887fa>:5: UserWarning: Pandas doesn't allow columns to be created via a new attribute name - see https://pandas.pydata.org/pandas-docs/stable/indexing.html#attribute-access\n",
      "  data_clust2_XOR.condition = data_clust2_XOR.condition_Smile_auto.str.split(\"_\",n=1, expand = True)[1]\n"
     ]
    }
   ],
   "source": [
    "# data = pd.read_csv('test_lme_data.csv')\n",
    "data_clust2_XOR = pd.read_csv('FaNoOcc_NeNoOcc_insta_abs_detrend_lme_smile_cluster_gamma_data_XOR_ori.csv')\n",
    "# data_clust1.head()\n",
    "# data = data.iloc[0:7000,]\n",
    "data_clust2_XOR.condition = data_clust2_XOR.condition_Smile_auto.str.split(\"_\",n=1, expand = True)[1]\n",
    "data_clust2_XOR.condition = data_clust2_XOR.condition.astype('int')"
   ]
  },
  {
   "cell_type": "code",
   "execution_count": 17,
   "id": "charitable-luxembourg",
   "metadata": {},
   "outputs": [
    {
     "name": "stderr",
     "output_type": "stream",
     "text": [
      "<ipython-input-17-d6c91c2bef6c>:36: FutureWarning: In v4.0, pm.sample will return an `arviz.InferenceData` object instead of a `MultiTrace` by default. You can pass return_inferencedata=True or return_inferencedata=False to be safe and silence this warning.\n",
      "  hierarchical_trace_clust_2_XOR = pm.sample(samples, tune=tune, target_accept=0.99)\n",
      "Auto-assigning NUTS sampler...\n",
      "Initializing NUTS using jitter+adapt_diag...\n",
      "Multiprocess sampling (4 chains in 4 jobs)\n",
      "NUTS: [eps, mov, mouth_size, eye_gaze, intercept, sigma_mov, mu_mov, sigma_mouth_size, mu_mouth_size, sigma_eye_gaze, mu_eye_gaze, sigma_intercept, mu_intercept]\n"
     ]
    },
    {
     "data": {
      "text/html": [
       "\n",
       "    <div>\n",
       "        <style>\n",
       "            /* Turns off some styling */\n",
       "            progress {\n",
       "                /* gets rid of default border in Firefox and Opera. */\n",
       "                border: none;\n",
       "                /* Needs to be in here for Safari polyfill so background images work as expected. */\n",
       "                background-size: auto;\n",
       "            }\n",
       "            .progress-bar-interrupted, .progress-bar-interrupted::-webkit-progress-bar {\n",
       "                background: #F44336;\n",
       "            }\n",
       "        </style>\n",
       "      <progress value='20000' class='' max='20000' style='width:300px; height:20px; vertical-align: middle;'></progress>\n",
       "      100.00% [20000/20000 2:59:31<00:00 Sampling 4 chains, 0 divergences]\n",
       "    </div>\n",
       "    "
      ],
      "text/plain": [
       "<IPython.core.display.HTML object>"
      ]
     },
     "metadata": {},
     "output_type": "display_data"
    },
    {
     "name": "stderr",
     "output_type": "stream",
     "text": [
      "Sampling 4 chains for 2_500 tune and 2_500 draw iterations (10_000 + 10_000 draws total) took 10794 seconds.\n",
      "The number of effective samples is smaller than 25% for some parameters.\n"
     ]
    }
   ],
   "source": [
    "n_dyads = len(data_clust2_XOR.Dyad_no_Eye_tracker_gaze.unique())\n",
    "dyad_idx = np.array(data_clust2_XOR.Dyad_no_Eye_tracker_gaze.str.split(\"_\",n=1, expand = True)[1],dtype='int64')-1\n",
    "\n",
    "with pm.Model() as hierarchical_model_clust_2_XOR:\n",
    "    # Hyperpriors for group nodes\n",
    "    mu_intercept = pm.Normal(\"mu_intercept\", mu=0.0, sigma=100)\n",
    "    sigma_intercept = pm.HalfNormal(\"sigma_intercept\", 5.0)\n",
    "    mu_eye_gaze = pm.Normal(\"mu_eye_gaze\", mu=0.0, sigma=100)\n",
    "    sigma_eye_gaze = pm.HalfNormal(\"sigma_eye_gaze\", 5.0)    \n",
    "  \n",
    "    mu_mouth_size = pm.Normal(\"mu_mouth_size\", mu=0.0, sigma=100)\n",
    "    sigma_mouth_size = pm.HalfNormal(\"sigma_mouth_size\", 5.0)  \n",
    "    \n",
    "    mu_mov = pm.Normal(\"mu_mov\", mu=0.0, sigma=100)\n",
    "    sigma_mov = pm.HalfNormal(\"sigma_mov\", 5.0)     \n",
    "    \n",
    "    \n",
    "    # Intercept for each county, distributed around group mean mu_a\n",
    "    # Above we just set mu and sd to a fixed value while here we\n",
    "    # plug in a common group distribution for all a and b (which are\n",
    "    # vectors of length n_counties).\n",
    "    intercept = pm.Normal(\"intercept\", mu=mu_intercept, sigma=sigma_intercept, shape=n_dyads)\n",
    "    # Intercept for each county, distributed around group mean mu_a\n",
    "    eye_gaze = pm.Normal(\"eye_gaze\", mu=mu_eye_gaze, sigma=sigma_eye_gaze, shape=n_dyads)\n",
    "    mouth_size = pm.Normal(\"mouth_size\", mu=mu_mouth_size, sigma=sigma_mouth_size, shape=n_dyads)\n",
    "    mov = pm.Normal(\"mov\", mu=mu_mov, sigma=sigma_mov, shape=n_dyads)\n",
    "    # Model error\n",
    "    eps = pm.HalfCauchy(\"eps\", 5.0)\n",
    "    #pdb.set_trace()\n",
    "    feature_est = intercept[dyad_idx]  +  eye_gaze[dyad_idx] * data_clust2_XOR.Fun_eyeface_joint.values + mouth_size[dyad_idx] * data_clust2_XOR.Fun_mouth_size_joint.values +  mov[dyad_idx] * data_clust2_XOR.Fun_ALL_joint.values\n",
    "#     feature_est = intercept[dyad_idx] \n",
    "\n",
    "    # Data likelihood\n",
    "    feature_like = pm.Normal(\"feature_like\", mu=feature_est, sigma=eps, observed=data_clust2_XOR.chan_freq_data)\n",
    "#     hierarchical_trace_clust_1_null = pm.sample(5000, tune=5000, target_accept=0.99)\n",
    "    hierarchical_trace_clust_2_XOR = pm.sample(samples, tune=tune, target_accept=0.99)"
   ]
  },
  {
   "cell_type": "code",
   "execution_count": 18,
   "id": "cutting-reunion",
   "metadata": {},
   "outputs": [],
   "source": [
    "hierarchical_trace_clust_2_XOR_save = pm.save_trace(hierarchical_trace_clust_2_XOR,directory='.model_clust_2_binary_insta_abs_detrend_XOR_2500_ori.trace')    "
   ]
  },
  {
   "cell_type": "code",
   "execution_count": 19,
   "id": "exciting-craps",
   "metadata": {},
   "outputs": [],
   "source": [
    "# az.rhat(hierarchical_trace_clust_2_XOR)"
   ]
  },
  {
   "cell_type": "code",
   "execution_count": null,
   "id": "suffering-transcript",
   "metadata": {},
   "outputs": [],
   "source": []
  },
  {
   "cell_type": "code",
   "execution_count": 20,
   "id": "acquired-sugar",
   "metadata": {},
   "outputs": [
    {
     "name": "stderr",
     "output_type": "stream",
     "text": [
      "<ipython-input-20-c1adeccd9299>:5: UserWarning: Pandas doesn't allow columns to be created via a new attribute name - see https://pandas.pydata.org/pandas-docs/stable/indexing.html#attribute-access\n",
      "  data_clust3_AND.condition = data_clust3_AND.condition_Smile_auto.str.split(\"_\",n=1, expand = True)[1]\n"
     ]
    }
   ],
   "source": [
    "# data = pd.read_csv('test_lme_data.csv')\n",
    "data_clust3_AND = pd.read_csv('FaNoOcc_NeNoOcc_insta_abs_detrend_lme_smile_cluster_alpha_data_AND_ori.csv')\n",
    "# data_clust1.head()\n",
    "# data = data.iloc[0:7000,]\n",
    "data_clust3_AND.condition = data_clust3_AND.condition_Smile_auto.str.split(\"_\",n=1, expand = True)[1]\n",
    "data_clust3_AND.condition = data_clust3_AND.condition.astype('int')"
   ]
  },
  {
   "cell_type": "code",
   "execution_count": 21,
   "id": "sorted-chile",
   "metadata": {},
   "outputs": [
    {
     "name": "stderr",
     "output_type": "stream",
     "text": [
      "<ipython-input-21-cd464ffd103a>:36: FutureWarning: In v4.0, pm.sample will return an `arviz.InferenceData` object instead of a `MultiTrace` by default. You can pass return_inferencedata=True or return_inferencedata=False to be safe and silence this warning.\n",
      "  hierarchical_trace_clust_3_AND = pm.sample(samples, tune=tune, target_accept=0.99)\n",
      "Auto-assigning NUTS sampler...\n",
      "Initializing NUTS using jitter+adapt_diag...\n",
      "Multiprocess sampling (4 chains in 4 jobs)\n",
      "NUTS: [eps, mov, mouth_size, eye_gaze, intercept, sigma_mov, mu_mov, sigma_mouth_size, mu_mouth_size, sigma_eye_gaze, mu_eye_gaze, sigma_intercept, mu_intercept]\n"
     ]
    },
    {
     "data": {
      "text/html": [
       "\n",
       "    <div>\n",
       "        <style>\n",
       "            /* Turns off some styling */\n",
       "            progress {\n",
       "                /* gets rid of default border in Firefox and Opera. */\n",
       "                border: none;\n",
       "                /* Needs to be in here for Safari polyfill so background images work as expected. */\n",
       "                background-size: auto;\n",
       "            }\n",
       "            .progress-bar-interrupted, .progress-bar-interrupted::-webkit-progress-bar {\n",
       "                background: #F44336;\n",
       "            }\n",
       "        </style>\n",
       "      <progress value='20000' class='' max='20000' style='width:300px; height:20px; vertical-align: middle;'></progress>\n",
       "      100.00% [20000/20000 23:18:19<00:00 Sampling 4 chains, 1,658 divergences]\n",
       "    </div>\n",
       "    "
      ],
      "text/plain": [
       "<IPython.core.display.HTML object>"
      ]
     },
     "metadata": {},
     "output_type": "display_data"
    },
    {
     "name": "stderr",
     "output_type": "stream",
     "text": [
      "Sampling 4 chains for 2_500 tune and 2_500 draw iterations (10_000 + 10_000 draws total) took 83926 seconds.\n",
      "There were 1649 divergences after tuning. Increase `target_accept` or reparameterize.\n",
      "The acceptance probability does not match the target. It is 0.4923031636863557, but should be close to 0.99. Try to increase the number of tuning steps.\n",
      "The chain reached the maximum tree depth. Increase max_treedepth, increase target_accept or reparameterize.\n",
      "The chain reached the maximum tree depth. Increase max_treedepth, increase target_accept or reparameterize.\n",
      "There were 7 divergences after tuning. Increase `target_accept` or reparameterize.\n",
      "There were 2 divergences after tuning. Increase `target_accept` or reparameterize.\n",
      "The rhat statistic is larger than 1.2 for some parameters.\n",
      "The estimated number of effective samples is smaller than 200 for some parameters.\n"
     ]
    }
   ],
   "source": [
    "n_dyads = len(data_clust3_AND.Dyad_no_Eye_tracker_gaze.unique())\n",
    "dyad_idx = np.array(data_clust3_AND.Dyad_no_Eye_tracker_gaze.str.split(\"_\",n=1, expand = True)[1],dtype='int64')-1\n",
    "\n",
    "with pm.Model() as hierarchical_model_clust_3_AND:\n",
    "    # Hyperpriors for group nodes\n",
    "    mu_intercept = pm.Normal(\"mu_intercept\", mu=0.0, sigma=100)\n",
    "    sigma_intercept = pm.HalfNormal(\"sigma_intercept\", 5.0)\n",
    "    mu_eye_gaze = pm.Normal(\"mu_eye_gaze\", mu=0.0, sigma=100)\n",
    "    sigma_eye_gaze = pm.HalfNormal(\"sigma_eye_gaze\", 5.0)    \n",
    "  \n",
    "    mu_mouth_size = pm.Normal(\"mu_mouth_size\", mu=0.0, sigma=100)\n",
    "    sigma_mouth_size = pm.HalfNormal(\"sigma_mouth_size\", 5.0)  \n",
    "    \n",
    "    mu_mov = pm.Normal(\"mu_mov\", mu=0.0, sigma=100)\n",
    "    sigma_mov = pm.HalfNormal(\"sigma_mov\", 5.0)     \n",
    "    \n",
    "    \n",
    "    # Intercept for each county, distributed around group mean mu_a\n",
    "    # Above we just set mu and sd to a fixed value while here we\n",
    "    # plug in a common group distribution for all a and b (which are\n",
    "    # vectors of length n_counties).\n",
    "    intercept = pm.Normal(\"intercept\", mu=mu_intercept, sigma=sigma_intercept, shape=n_dyads)\n",
    "    # Intercept for each county, distributed around group mean mu_a\n",
    "    eye_gaze = pm.Normal(\"eye_gaze\", mu=mu_eye_gaze, sigma=sigma_eye_gaze, shape=n_dyads)\n",
    "    mouth_size = pm.Normal(\"mouth_size\", mu=mu_mouth_size, sigma=sigma_mouth_size, shape=n_dyads)\n",
    "    mov = pm.Normal(\"mov\", mu=mu_mov, sigma=sigma_mov, shape=n_dyads)\n",
    "    # Model error\n",
    "    eps = pm.HalfCauchy(\"eps\", 5.0)\n",
    "    #pdb.set_trace()\n",
    "    feature_est = intercept[dyad_idx]  +  eye_gaze[dyad_idx] * data_clust3_AND.Fun_eyeface_joint.values + mouth_size[dyad_idx] * data_clust3_AND.Fun_mouth_size_joint.values +  mov[dyad_idx] * data_clust3_AND.Fun_ALL_joint.values\n",
    "#     feature_est = intercept[dyad_idx] \n",
    "\n",
    "    # Data likelihood\n",
    "    feature_like = pm.Normal(\"feature_like\", mu=feature_est, sigma=eps, observed=data_clust3_AND.chan_freq_data)\n",
    "#     hierarchical_trace_clust_1_null = pm.sample(5000, tune=5000, target_accept=0.99)\n",
    "    hierarchical_trace_clust_3_AND = pm.sample(samples, tune=tune, target_accept=0.99)"
   ]
  },
  {
   "cell_type": "code",
   "execution_count": 22,
   "id": "identified-coach",
   "metadata": {},
   "outputs": [],
   "source": [
    "hierarchical_trace_clust_3_AND_save = pm.save_trace(hierarchical_trace_clust_3_AND,directory='.model_clust_3_binary_insta_abs_detrend_AND_2500_ori.trace',overwrite=True)    "
   ]
  },
  {
   "cell_type": "code",
   "execution_count": 23,
   "id": "complimentary-easter",
   "metadata": {},
   "outputs": [
    {
     "name": "stderr",
     "output_type": "stream",
     "text": [
      "<ipython-input-23-6e00c6b13c97>:5: UserWarning: Pandas doesn't allow columns to be created via a new attribute name - see https://pandas.pydata.org/pandas-docs/stable/indexing.html#attribute-access\n",
      "  data_clust3_XOR.condition = data_clust3_XOR.condition_Smile_auto.str.split(\"_\",n=1, expand = True)[1]\n"
     ]
    }
   ],
   "source": [
    "# data = pd.read_csv('test_lme_data.csv')\n",
    "data_clust3_XOR = pd.read_csv('FaNoOcc_NeNoOcc_insta_abs_detrend_lme_smile_cluster_alpha_data_XOR_ori.csv')\n",
    "# data_clust1.head()\n",
    "# data = data.iloc[0:7000,]\n",
    "data_clust3_XOR.condition = data_clust3_XOR.condition_Smile_auto.str.split(\"_\",n=1, expand = True)[1]\n",
    "data_clust3_XOR.condition = data_clust3_XOR.condition.astype('int')"
   ]
  },
  {
   "cell_type": "code",
   "execution_count": 24,
   "id": "familiar-michael",
   "metadata": {},
   "outputs": [
    {
     "name": "stderr",
     "output_type": "stream",
     "text": [
      "<ipython-input-24-3f8e98329b80>:36: FutureWarning: In v4.0, pm.sample will return an `arviz.InferenceData` object instead of a `MultiTrace` by default. You can pass return_inferencedata=True or return_inferencedata=False to be safe and silence this warning.\n",
      "  hierarchical_trace_clust_3_XOR = pm.sample(samples, tune=tune, target_accept=0.99)\n",
      "Auto-assigning NUTS sampler...\n",
      "Initializing NUTS using jitter+adapt_diag...\n",
      "Multiprocess sampling (4 chains in 4 jobs)\n",
      "NUTS: [eps, mov, mouth_size, eye_gaze, intercept, sigma_mov, mu_mov, sigma_mouth_size, mu_mouth_size, sigma_eye_gaze, mu_eye_gaze, sigma_intercept, mu_intercept]\n"
     ]
    },
    {
     "data": {
      "text/html": [
       "\n",
       "    <div>\n",
       "        <style>\n",
       "            /* Turns off some styling */\n",
       "            progress {\n",
       "                /* gets rid of default border in Firefox and Opera. */\n",
       "                border: none;\n",
       "                /* Needs to be in here for Safari polyfill so background images work as expected. */\n",
       "                background-size: auto;\n",
       "            }\n",
       "            .progress-bar-interrupted, .progress-bar-interrupted::-webkit-progress-bar {\n",
       "                background: #F44336;\n",
       "            }\n",
       "        </style>\n",
       "      <progress value='20000' class='' max='20000' style='width:300px; height:20px; vertical-align: middle;'></progress>\n",
       "      100.00% [20000/20000 17:26:50<00:00 Sampling 4 chains, 52 divergences]\n",
       "    </div>\n",
       "    "
      ],
      "text/plain": [
       "<IPython.core.display.HTML object>"
      ]
     },
     "metadata": {},
     "output_type": "display_data"
    },
    {
     "name": "stderr",
     "output_type": "stream",
     "text": [
      "Sampling 4 chains for 2_500 tune and 2_500 draw iterations (10_000 + 10_000 draws total) took 62842 seconds.\n",
      "There were 20 divergences after tuning. Increase `target_accept` or reparameterize.\n",
      "The acceptance probability does not match the target. It is 0.9695211862021191, but should be close to 0.99. Try to increase the number of tuning steps.\n",
      "There were 17 divergences after tuning. Increase `target_accept` or reparameterize.\n",
      "There were 7 divergences after tuning. Increase `target_accept` or reparameterize.\n",
      "There were 8 divergences after tuning. Increase `target_accept` or reparameterize.\n",
      "The estimated number of effective samples is smaller than 200 for some parameters.\n"
     ]
    }
   ],
   "source": [
    "n_dyads = len(data_clust3_XOR.Dyad_no_Eye_tracker_gaze.unique())\n",
    "dyad_idx = np.array(data_clust3_XOR.Dyad_no_Eye_tracker_gaze.str.split(\"_\",n=1, expand = True)[1],dtype='int64')-1\n",
    "\n",
    "with pm.Model() as hierarchical_model_clust_3_XOR:\n",
    "    # Hyperpriors for group nodes\n",
    "    mu_intercept = pm.Normal(\"mu_intercept\", mu=0.0, sigma=100)\n",
    "    sigma_intercept = pm.HalfNormal(\"sigma_intercept\", 5.0)\n",
    "    mu_eye_gaze = pm.Normal(\"mu_eye_gaze\", mu=0.0, sigma=100)\n",
    "    sigma_eye_gaze = pm.HalfNormal(\"sigma_eye_gaze\", 5.0)    \n",
    "  \n",
    "    mu_mouth_size = pm.Normal(\"mu_mouth_size\", mu=0.0, sigma=100)\n",
    "    sigma_mouth_size = pm.HalfNormal(\"sigma_mouth_size\", 5.0)  \n",
    "    \n",
    "    mu_mov = pm.Normal(\"mu_mov\", mu=0.0, sigma=100)\n",
    "    sigma_mov = pm.HalfNormal(\"sigma_mov\", 5.0)     \n",
    "    \n",
    "    \n",
    "    # Intercept for each county, distributed around group mean mu_a\n",
    "    # Above we just set mu and sd to a fixed value while here we\n",
    "    # plug in a common group distribution for all a and b (which are\n",
    "    # vectors of length n_counties).\n",
    "    intercept = pm.Normal(\"intercept\", mu=mu_intercept, sigma=sigma_intercept, shape=n_dyads)\n",
    "    # Intercept for each county, distributed around group mean mu_a\n",
    "    eye_gaze = pm.Normal(\"eye_gaze\", mu=mu_eye_gaze, sigma=sigma_eye_gaze, shape=n_dyads)\n",
    "    mouth_size = pm.Normal(\"mouth_size\", mu=mu_mouth_size, sigma=sigma_mouth_size, shape=n_dyads)\n",
    "    mov = pm.Normal(\"mov\", mu=mu_mov, sigma=sigma_mov, shape=n_dyads)\n",
    "    # Model error\n",
    "    eps = pm.HalfCauchy(\"eps\", 5.0)\n",
    "    #pdb.set_trace()\n",
    "    feature_est = intercept[dyad_idx]  +  eye_gaze[dyad_idx] * data_clust3_XOR.Fun_eyeface_joint.values + mouth_size[dyad_idx] * data_clust3_XOR.Fun_mouth_size_joint.values +  mov[dyad_idx] * data_clust3_XOR.Fun_ALL_joint.values\n",
    "#     feature_est = intercept[dyad_idx] \n",
    "\n",
    "    # Data likelihood\n",
    "    feature_like = pm.Normal(\"feature_like\", mu=feature_est, sigma=eps, observed=data_clust3_XOR.chan_freq_data)\n",
    "#     hierarchical_trace_clust_1_null = pm.sample(5000, tune=5000, target_accept=0.99)\n",
    "    hierarchical_trace_clust_3_XOR = pm.sample(samples, tune=tune, target_accept=0.99)"
   ]
  },
  {
   "cell_type": "code",
   "execution_count": 25,
   "id": "inside-scope",
   "metadata": {},
   "outputs": [],
   "source": [
    "hierarchical_trace_clust_3_XOR_save = pm.save_trace(hierarchical_trace_clust_3_XOR,directory='.model_clust_3_binary_insta_abs_detrend_XOR_2500_ori.trace')    "
   ]
  },
  {
   "cell_type": "code",
   "execution_count": 26,
   "id": "connected-robert",
   "metadata": {},
   "outputs": [],
   "source": [
    "# hierarchical_trace_clust_3_AND_az_model = az.from_pymc3(hierarchical_trace_clust_3_AND)\n",
    "# hierarchical_trace_clust_3_XOR_az_model = az.from_pymc3(hierarchical_trace_clust_3_XOR)\n",
    "# df_comp_loo_3 = az.compare({\"AND\": hierarchical_trace_clust_3_AND_az_model, \"XOR\": hierarchical_trace_clust_3_XOR_az_model})\n",
    "# df_comp_loo_3\n"
   ]
  },
  {
   "cell_type": "code",
   "execution_count": 27,
   "id": "ancient-moral",
   "metadata": {},
   "outputs": [],
   "source": [
    "# hierarchical_trace_clust_1_AND_az_model = az.from_pymc3(hierarchical_trace_clust_1_AND)"
   ]
  },
  {
   "cell_type": "code",
   "execution_count": 28,
   "id": "quarterly-brook",
   "metadata": {},
   "outputs": [],
   "source": [
    "# az.loo(hierarchical_trace_clust_1_AND_az_model,hierarchical_model_clust_1_AND)"
   ]
  },
  {
   "cell_type": "code",
   "execution_count": 29,
   "id": "particular-footage",
   "metadata": {},
   "outputs": [],
   "source": [
    "# hierarchical_trace_clust_1_XOR_az_model = az.from_pymc3(hierarchical_trace_clust_1_XOR)"
   ]
  },
  {
   "cell_type": "code",
   "execution_count": 30,
   "id": "velvet-condition",
   "metadata": {},
   "outputs": [],
   "source": [
    "# az.loo(hierarchical_trace_clust_1_XOR_az_model,hierarchical_model_clust_1_XOR)"
   ]
  },
  {
   "cell_type": "code",
   "execution_count": 31,
   "id": "understood-pressing",
   "metadata": {},
   "outputs": [],
   "source": [
    "# hierarchical_trace_clust_2_AND_az_model = az.from_pymc3(hierarchical_trace_clust_2_AND)"
   ]
  },
  {
   "cell_type": "code",
   "execution_count": 32,
   "id": "minute-healing",
   "metadata": {},
   "outputs": [],
   "source": [
    "# az.loo(hierarchical_trace_clust_2_AND_az_model,hierarchical_model_clust_2_AND)"
   ]
  },
  {
   "cell_type": "code",
   "execution_count": 33,
   "id": "nonprofit-criterion",
   "metadata": {},
   "outputs": [],
   "source": [
    "# hierarchical_trace_clust_2_XOR_az_model = az.from_pymc3(hierarchical_trace_clust_2_XOR)"
   ]
  },
  {
   "cell_type": "code",
   "execution_count": 34,
   "id": "patient-bryan",
   "metadata": {},
   "outputs": [],
   "source": [
    "# az.loo(hierarchical_trace_clust_2_XOR_az_model,hierarchical_trace_clust_2_XOR)"
   ]
  },
  {
   "cell_type": "code",
   "execution_count": 35,
   "id": "occupational-heart",
   "metadata": {},
   "outputs": [],
   "source": [
    "# df_comp_loo = az.compare({\"AND\": hierarchical_trace_clust_1_AND_az_model, \"XOR\": hierarchical_trace_clust_1_XOR_az_model})\n",
    "# df_comp_loo"
   ]
  },
  {
   "cell_type": "code",
   "execution_count": 36,
   "id": "executed-uniform",
   "metadata": {},
   "outputs": [],
   "source": [
    "# df_comp_loo_2 = az.compare({\"AND\": hierarchical_trace_clust_2_AND_az_model, \"XOR\": hierarchical_trace_clust_2_XOR_az_model})\n",
    "# df_comp_loo_2"
   ]
  },
  {
   "cell_type": "code",
   "execution_count": 37,
   "id": "emotional-mozambique",
   "metadata": {},
   "outputs": [],
   "source": [
    "# az.plot_compare(df_comp_loo)"
   ]
  },
  {
   "cell_type": "code",
   "execution_count": 38,
   "id": "billion-avatar",
   "metadata": {},
   "outputs": [],
   "source": [
    "# az.plot_compare(df_comp_loo_2)"
   ]
  },
  {
   "cell_type": "code",
   "execution_count": 39,
   "id": "backed-lighter",
   "metadata": {},
   "outputs": [],
   "source": [
    "# pm.model_graph.model_to_graphviz(hierarchical_model_clust_2_XOR)"
   ]
  }
 ],
 "metadata": {
  "kernelspec": {
   "display_name": "pymc",
   "language": "python",
   "name": "pymc"
  },
  "language_info": {
   "codemirror_mode": {
    "name": "ipython",
    "version": 3
   },
   "file_extension": ".py",
   "mimetype": "text/x-python",
   "name": "python",
   "nbconvert_exporter": "python",
   "pygments_lexer": "ipython3",
   "version": "3.9.2"
  }
 },
 "nbformat": 4,
 "nbformat_minor": 5
}
