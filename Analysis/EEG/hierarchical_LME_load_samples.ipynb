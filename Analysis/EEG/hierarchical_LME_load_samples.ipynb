{
 "cells": [
  {
   "cell_type": "code",
   "execution_count": 1,
   "id": "liked-omaha",
   "metadata": {},
   "outputs": [
    {
     "name": "stdout",
     "output_type": "stream",
     "text": [
      "Running on PyMC3 v3.11.2\n"
     ]
    }
   ],
   "source": [
    "import pdb\n",
    "\n",
    "\n",
    "import arviz as az\n",
    "import matplotlib.pyplot as plt\n",
    "import numpy as np\n",
    "import pandas as pd\n",
    "import pymc3 as pm\n",
    "import theano\n",
    "import pandas as pd\n",
    "print(f\"Running on PyMC3 v{pm.__version__}\")\n",
    "%config InlineBackend.figure_format = 'retina'\n",
    "az.style.use(\"arviz-darkgrid\")"
   ]
  },
  {
   "cell_type": "code",
   "execution_count": 2,
   "id": "special-favorite",
   "metadata": {},
   "outputs": [],
   "source": [
    "samples = 2500\n",
    "tune = 2500\n",
    "# with 1000 there are some convergence issues(r hat) especially with cluster 2"
   ]
  },
  {
   "cell_type": "code",
   "execution_count": 3,
   "id": "scientific-novel",
   "metadata": {},
   "outputs": [
    {
     "name": "stderr",
     "output_type": "stream",
     "text": [
      "<ipython-input-3-c0790adf876a>:6: UserWarning: Pandas doesn't allow columns to be created via a new attribute name - see https://pandas.pydata.org/pandas-docs/stable/indexing.html#attribute-access\n",
      "  data_clust1.condition = data_clust1.condition_Smile_auto.str.split(\"_\",n=1, expand = True)[1]\n"
     ]
    }
   ],
   "source": [
    "# data = pd.read_csv('test_lme_data.csv')\n",
    "data_clust1 = pd.read_csv('FaNoOcc_NeNoOcc_insta_abs_detrend_lme_smile_cluster_beta_data_IBS.csv')\n",
    "\n",
    "# data_clust1.head()\n",
    "# data = data.iloc[0:7000,]\n",
    "data_clust1.condition = data_clust1.condition_Smile_auto.str.split(\"_\",n=1, expand = True)[1]\n",
    "data_clust1.condition = data_clust1.condition.astype('int')"
   ]
  },
  {
   "cell_type": "code",
   "execution_count": 4,
   "id": "exterior-result",
   "metadata": {},
   "outputs": [],
   "source": [
    "n_dyads = len(data_clust1.Dyad_no_Gaze_nose_dist.unique())\n",
    "dyad_idx = np.array(data_clust1.Dyad_no_Gaze_nose_dist.str.split(\"_\",n=1, expand = True)[1],dtype='int64')-1\n",
    "\n",
    "with pm.Model() as hierarchical_model_clust_1_null:\n",
    "    # Hyperpriors for group nodes\n",
    "    mu_intercept = pm.Normal(\"mu_intercept\", mu=0.0, sigma=100)\n",
    "    sigma_intercept = pm.HalfNormal(\"sigma_intercept\", 5.0)\n",
    "    mu_eye_gaze = pm.Normal(\"mu_eye_gaze\", mu=0.0, sigma=100)\n",
    "    sigma_eye_gaze = pm.HalfNormal(\"sigma_eye_gaze\", 5.0)    \n",
    "  \n",
    "    mu_mouth_size = pm.Normal(\"mu_mouth_size\", mu=0.0, sigma=100)\n",
    "    sigma_mouth_size = pm.HalfNormal(\"sigma_mouth_size\", 5.0)  \n",
    "    \n",
    "    mu_mov = pm.Normal(\"mu_mov\", mu=0.0, sigma=100)\n",
    "    sigma_mov = pm.HalfNormal(\"sigma_mov\", 5.0)     \n",
    "    \n",
    "    \n",
    "    # Intercept for each county, distributed around group mean mu_a\n",
    "    # Above we just set mu and sd to a fixed value while here we\n",
    "    # plug in a common group distribution for all a and b (which are\n",
    "    # vectors of length n_counties).\n",
    "    intercept = pm.Normal(\"intercept\", mu=mu_intercept, sigma=sigma_intercept, shape=n_dyads)\n",
    "    # Intercept for each county, distributed around group mean mu_a\n",
    "    eye_gaze = pm.Normal(\"eye_gaze\", mu=mu_eye_gaze, sigma=sigma_eye_gaze, shape=n_dyads)\n",
    "    mouth_size = pm.Normal(\"mouth_size\", mu=mu_mouth_size, sigma=sigma_mouth_size, shape=n_dyads)\n",
    "    mov = pm.Normal(\"mov\", mu=mu_mov, sigma=sigma_mov, shape=n_dyads)\n",
    "    # Model error\n",
    "    eps = pm.HalfCauchy(\"eps\", 5.0)\n",
    "    #pdb.set_trace()\n",
    "#     feature_est = intercept[dyad_idx]  + condition[dyad_idx] * data.condition.values +  eye_gaze[dyad_idx] * data.eye_gaze_distance_joint.values + mouth_size[dyad_idx] * data.mouth_size_joint.values + e[dyad_idx] * data.ALL.values\n",
    "    feature_est = intercept[dyad_idx] \n",
    "\n",
    "    # Data likelihood\n",
    "    feature_like = pm.Normal(\"feature_like\", mu=feature_est, sigma=eps, observed=data_clust1.chan_freq_data)\n",
    "#     hierarchical_trace_clust_1_null = pm.sample(5000, tune=5000, target_accept=0.99)\n",
    "#     hierarchical_trace_clust_1_null = pm.sample(samples, tune=tune, target_accept=0.99)"
   ]
  },
  {
   "cell_type": "code",
   "execution_count": 5,
   "id": "honey-algebra",
   "metadata": {},
   "outputs": [],
   "source": [
    "# trace 18\n",
    "# hierarchical_trace_clust_1_null_save = pm.save_trace(hierarchical_trace_clust_1_null,directory='.null_model_clust_1_abs_glm.trace')    "
   ]
  },
  {
   "cell_type": "code",
   "execution_count": 6,
   "id": "martial-projection",
   "metadata": {},
   "outputs": [],
   "source": [
    "with hierarchical_model_clust_1_null:\n",
    "    hierarchical_trace_clust_1_null = pm.load_trace(\".null_model_clust_1_abs_glm_2500.trace\")"
   ]
  },
  {
   "cell_type": "code",
   "execution_count": 7,
   "id": "sitting-cruise",
   "metadata": {},
   "outputs": [],
   "source": [
    "n_dyads = len(data_clust1.Dyad_no_Gaze_nose_dist.unique())\n",
    "dyad_idx = np.array(data_clust1.Dyad_no_Gaze_nose_dist.str.split(\"_\",n=1, expand = True)[1],dtype='int64')-1\n",
    "\n",
    "with pm.Model() as hierarchical_model_clust_1:\n",
    "    # Hyperpriors for group nodes\n",
    "    mu_intercept = pm.Normal(\"mu_intercept\", mu=0.0, sigma=100)\n",
    "    sigma_intercept = pm.HalfNormal(\"sigma_intercept\", 5.0)\n",
    "    mu_eye_gaze = pm.Normal(\"mu_eye_gaze\", mu=0.0, sigma=100)\n",
    "    sigma_eye_gaze = pm.HalfNormal(\"sigma_eye_gaze\", 5.0)    \n",
    "  \n",
    "    mu_mouth_size = pm.Normal(\"mu_mouth_size\", mu=0.0, sigma=100)\n",
    "    sigma_mouth_size = pm.HalfNormal(\"sigma_mouth_size\", 5.0)  \n",
    "    \n",
    "    mu_mov = pm.Normal(\"mu_mov\", mu=0.0, sigma=100)\n",
    "    sigma_mov = pm.HalfNormal(\"sigma_mov\", 5.0)     \n",
    "    \n",
    "    \n",
    "    # Intercept for each county, distributed around group mean mu_a\n",
    "    # Above we just set mu and sd to a fixed value while here we\n",
    "    # plug in a common group distribution for all a and b (which are\n",
    "    # vectors of length n_counties).\n",
    "    intercept = pm.Normal(\"intercept\", mu=mu_intercept, sigma=sigma_intercept, shape=n_dyads)\n",
    "    # Intercept for each county, distributed around group mean mu_a\n",
    "    eye_gaze = pm.Normal(\"eye_gaze\", mu=mu_eye_gaze, sigma=sigma_eye_gaze, shape=n_dyads)\n",
    "    mouth_size = pm.Normal(\"mouth_size\", mu=mu_mouth_size, sigma=sigma_mouth_size, shape=n_dyads)\n",
    "    mov = pm.Normal(\"mov\", mu=mu_mov, sigma=sigma_mov, shape=n_dyads)\n",
    "    # Model error\n",
    "    eps = pm.HalfCauchy(\"eps\", 5.0)\n",
    "    #pdb.set_trace()\n",
    "#     feature_est = intercept[dyad_idx]  + condition[dyad_idx] * data.condition.values +  eye_gaze[dyad_idx] * data.eye_gaze_distance_joint.values + mouth_size[dyad_idx] * data.mouth_size_joint.values + e[dyad_idx] * data.ALL.values\n",
    "    feature_est = intercept[dyad_idx]  +  eye_gaze[dyad_idx] * data_clust1.eye_gaze_distance_joint.values + mouth_size[dyad_idx] * data_clust1.mouth_size_joint.values +  mov[dyad_idx] * data_clust1.ALL_joint.values\n",
    "\n",
    "    # Data likelihood\n",
    "    feature_like = pm.Normal(\"feature_like\", mu=feature_est, sigma=eps, observed=data_clust1.chan_freq_data)\n",
    "#     hierarchical_trace_clust_1 = pm.sample(samples, tune=tune, target_accept=0.99)"
   ]
  },
  {
   "cell_type": "code",
   "execution_count": 8,
   "id": "requested-tunisia",
   "metadata": {},
   "outputs": [],
   "source": [
    "# hierarchical_trace_clust_1_save = pm.save_trace(hierarchical_trace_clust_1,directory='.model_clust_1_abs_glm.trace')"
   ]
  },
  {
   "cell_type": "code",
   "execution_count": 9,
   "id": "latest-circular",
   "metadata": {},
   "outputs": [],
   "source": [
    "with hierarchical_model_clust_1:\n",
    "    hierarchical_trace_clust_1 = pm.load_trace(\".model_clust_1_abs_glm_2500.trace\")"
   ]
  },
  {
   "cell_type": "code",
   "execution_count": 10,
   "id": "renewable-skiing",
   "metadata": {},
   "outputs": [
    {
     "name": "stderr",
     "output_type": "stream",
     "text": [
      "C:\\Users\\SuperLabPC\\anaconda3\\envs\\pymc\\lib\\site-packages\\arviz\\data\\io_pymc3.py:96: FutureWarning: Using `from_pymc3` without the model will be deprecated in a future release. Not using the model will return less accurate and less useful results. Make sure you use the model argument or call from_pymc3 within a model context.\n",
      "  warnings.warn(\n",
      "C:\\Users\\SuperLabPC\\anaconda3\\envs\\pymc\\lib\\site-packages\\arviz\\data\\io_pymc3.py:96: FutureWarning: Using `from_pymc3` without the model will be deprecated in a future release. Not using the model will return less accurate and less useful results. Make sure you use the model argument or call from_pymc3 within a model context.\n",
      "  warnings.warn(\n",
      "C:\\Users\\SuperLabPC\\anaconda3\\envs\\pymc\\lib\\site-packages\\arviz\\stats\\stats.py:145: UserWarning: The default method used to estimate the weights for each model,has changed from BB-pseudo-BMA to stacking\n",
      "  warnings.warn(\n",
      "C:\\Users\\SuperLabPC\\anaconda3\\envs\\pymc\\lib\\site-packages\\arviz\\stats\\stats.py:876: RuntimeWarning: overflow encountered in exp\n",
      "  weights = 1 / np.exp(len_scale - len_scale[:, None]).sum(axis=1)\n",
      "C:\\Users\\SuperLabPC\\anaconda3\\envs\\pymc\\lib\\site-packages\\numpy\\core\\_methods.py:47: RuntimeWarning: overflow encountered in reduce\n",
      "  return umr_sum(a, axis, dtype, out, keepdims, initial, where)\n"
     ]
    },
    {
     "data": {
      "text/html": [
       "<div>\n",
       "<style scoped>\n",
       "    .dataframe tbody tr th:only-of-type {\n",
       "        vertical-align: middle;\n",
       "    }\n",
       "\n",
       "    .dataframe tbody tr th {\n",
       "        vertical-align: top;\n",
       "    }\n",
       "\n",
       "    .dataframe thead th {\n",
       "        text-align: right;\n",
       "    }\n",
       "</style>\n",
       "<table border=\"1\" class=\"dataframe\">\n",
       "  <thead>\n",
       "    <tr style=\"text-align: right;\">\n",
       "      <th></th>\n",
       "      <th>rank</th>\n",
       "      <th>loo</th>\n",
       "      <th>p_loo</th>\n",
       "      <th>d_loo</th>\n",
       "      <th>weight</th>\n",
       "      <th>se</th>\n",
       "      <th>dse</th>\n",
       "      <th>warning</th>\n",
       "      <th>loo_scale</th>\n",
       "    </tr>\n",
       "  </thead>\n",
       "  <tbody>\n",
       "    <tr>\n",
       "      <th>clust_1</th>\n",
       "      <td>0</td>\n",
       "      <td>-224617.119326</td>\n",
       "      <td>27.412576</td>\n",
       "      <td>0.000000</td>\n",
       "      <td>0.536965</td>\n",
       "      <td>283.054908</td>\n",
       "      <td>0.0000</td>\n",
       "      <td>False</td>\n",
       "      <td>log</td>\n",
       "    </tr>\n",
       "    <tr>\n",
       "      <th>null</th>\n",
       "      <td>1</td>\n",
       "      <td>-224617.663217</td>\n",
       "      <td>2.678311</td>\n",
       "      <td>0.543892</td>\n",
       "      <td>0.463035</td>\n",
       "      <td>283.106982</td>\n",
       "      <td>3.8355</td>\n",
       "      <td>False</td>\n",
       "      <td>log</td>\n",
       "    </tr>\n",
       "  </tbody>\n",
       "</table>\n",
       "</div>"
      ],
      "text/plain": [
       "         rank            loo      p_loo     d_loo    weight          se  \\\n",
       "clust_1     0 -224617.119326  27.412576  0.000000  0.536965  283.054908   \n",
       "null        1 -224617.663217   2.678311  0.543892  0.463035  283.106982   \n",
       "\n",
       "            dse  warning loo_scale  \n",
       "clust_1  0.0000    False       log  \n",
       "null     3.8355    False       log  "
      ]
     },
     "execution_count": 10,
     "metadata": {},
     "output_type": "execute_result"
    }
   ],
   "source": [
    "hierarchical_trace_clust_1_null_az = az.from_pymc3(hierarchical_trace_clust_1_null)\n",
    "hierarchical_trace_clust_1_az = az.from_pymc3(hierarchical_trace_clust_1)\n",
    "compare_dict = {\"null\": hierarchical_trace_clust_1_null_az, \"clust_1\": hierarchical_trace_clust_1_az}\n",
    "az.compare(compare_dict)"
   ]
  },
  {
   "cell_type": "code",
   "execution_count": 11,
   "id": "loaded-reward",
   "metadata": {},
   "outputs": [
    {
     "name": "stdout",
     "output_type": "stream",
     "text": [
      "0.0421\n",
      "0.5708\n",
      "0.336\n"
     ]
    }
   ],
   "source": [
    "print(np.sum(hierarchical_trace_clust_1['mu_eye_gaze']<0)/len(hierarchical_trace_clust_1['mu_eye_gaze']))\n",
    "print(np.sum(hierarchical_trace_clust_1['mu_mouth_size']<0)/len(hierarchical_trace_clust_1['mu_mouth_size']))\n",
    "print(np.sum(hierarchical_trace_clust_1['mu_mov']<0)/len(hierarchical_trace_clust_1['mu_mov']))\n"
   ]
  },
  {
   "cell_type": "code",
   "execution_count": 12,
   "id": "single-nothing",
   "metadata": {},
   "outputs": [],
   "source": [
    "# az.rhat(hierarchical_trace_clust_1,var_names=[\"mu_eye_gaze\", \"mu_mouth_size\",\"mu_mov\"])"
   ]
  },
  {
   "cell_type": "code",
   "execution_count": null,
   "id": "affecting-hopkins",
   "metadata": {},
   "outputs": [],
   "source": []
  },
  {
   "cell_type": "code",
   "execution_count": 13,
   "id": "growing-mission",
   "metadata": {},
   "outputs": [],
   "source": [
    "# import operator\n",
    "# from functools import reduce\n",
    "# np.sum(reduce(operator.and_,[hierarchical_trace_clust_1['mu_eye_gaze']<0.01, \\\n",
    "#                             hierarchical_trace_clust_1['mu_eye_gaze']>-0.01]))/\\\n",
    "# len(hierarchical_trace_clust_1['mu_eye_gaze'])"
   ]
  },
  {
   "cell_type": "code",
   "execution_count": 14,
   "id": "endangered-denial",
   "metadata": {},
   "outputs": [],
   "source": [
    "# az.plot_posterior(hierarchical_trace_clust_1, var_names=[\"mu_eye_gaze\",\"mu_mouth_size\", \"mu_mov\"],ref_val=0,linewidth=2)"
   ]
  },
  {
   "cell_type": "code",
   "execution_count": 15,
   "id": "empirical-maine",
   "metadata": {},
   "outputs": [],
   "source": [
    "# root_dir = \"E:\\\\Projects\\\\IBS\\\\Results\\\\EEG\\\\Brain_behavior_glm_power_freqwise\\\\no_aggressive_CAR_ASR_10_ICA_appended_trials\\\\figures\\\\\"\n",
    "# fig = plt.figure()\n",
    "# ax = fig.add_subplot(111)\n",
    "# a = az.plot_posterior(hierarchical_trace_clust_1, var_names=[\"mu_eye_gaze\"],ref_val=0,linewidth=2,ax =ax,hdi_prob=0.90)#,bw=0.002\n",
    "# fig.savefig(root_dir + \"GLM_cluster_1_eye_insta_abs_detrend_smile_cor7.eps\",format='eps')\n",
    "# fig = plt.figure()\n",
    "# ax = fig.add_subplot(111)\n",
    "# a = az.plot_posterior(hierarchical_trace_clust_1, var_names=[\"mu_mouth_size\"],ref_val=0,linewidth=2,ax =ax,hdi_prob=0.90)\n",
    "# fig.savefig(root_dir + \"GLM_cluster_1_mouth_insta_abs_detrend_smile_cor7.eps\",format='eps')\n",
    "# fig = plt.figure()\n",
    "# ax = fig.add_subplot(111)\n",
    "# a = az.plot_posterior(hierarchical_trace_clust_1, var_names=[\"mu_mov\"],ref_val=0,linewidth=2,ax =ax,hdi_prob=0.90)\n",
    "# fig.savefig(root_dir + \"GLM_cluster_1_mov_insta_abs_detrend_smile_cor7.eps\",format='eps')\n",
    "\n",
    "\n",
    "# a = az.plot_posterior(hierarchical_trace_clust_1, var_names=[\"mu_eye_gaze\",\"mu_mouth_size\", \"mu_mov\"],ref_val=0,linewidth=2,ax =ax)"
   ]
  },
  {
   "cell_type": "code",
   "execution_count": 16,
   "id": "maritime-weekend",
   "metadata": {},
   "outputs": [],
   "source": [
    "# import seaborn as sns"
   ]
  },
  {
   "cell_type": "code",
   "execution_count": 17,
   "id": "advisory-clarity",
   "metadata": {},
   "outputs": [],
   "source": [
    "# sns.distplot(hierarchical_trace_clust_1['mu_mouth_size'])"
   ]
  },
  {
   "cell_type": "code",
   "execution_count": 18,
   "id": "looking-nirvana",
   "metadata": {},
   "outputs": [],
   "source": [
    "# bfmi = np.max(pm.stats.bfmi(trace))\n",
    "# max_gr = max(np.max(gr_stats) for gr_stats in pm.stats.rhat(trace).values()).values\n",
    "\n",
    "\n",
    "# (\n",
    "#     pm.energyplot(trace, legend=False, figsize=(6, 4)).set_title(\n",
    "#         f\"BFMI = {bfmi}\\nGelman-Rubin = {max_gr}\"\n",
    "#     )\n",
    "# )"
   ]
  },
  {
   "cell_type": "code",
   "execution_count": 19,
   "id": "peripheral-external",
   "metadata": {},
   "outputs": [],
   "source": [
    "%reset -f"
   ]
  },
  {
   "cell_type": "code",
   "execution_count": 20,
   "id": "moving-regression",
   "metadata": {},
   "outputs": [
    {
     "name": "stdout",
     "output_type": "stream",
     "text": [
      "Running on PyMC3 v3.11.2\n"
     ]
    }
   ],
   "source": [
    "import pdb\n",
    "\n",
    "\n",
    "import arviz as az\n",
    "import matplotlib.pyplot as plt\n",
    "import numpy as np\n",
    "import pandas as pd\n",
    "import pymc3 as pm\n",
    "import theano\n",
    "import pandas as pd\n",
    "print(f\"Running on PyMC3 v{pm.__version__}\")\n",
    "%config InlineBackend.figure_format = 'retina'\n",
    "az.style.use(\"arviz-darkgrid\")"
   ]
  },
  {
   "cell_type": "code",
   "execution_count": 21,
   "id": "elect-assembly",
   "metadata": {},
   "outputs": [],
   "source": [
    "samples = 2500\n",
    "tune = 2500\n",
    "# with 1000 there are some convergence issues(r hat) especially with cluster 2"
   ]
  },
  {
   "cell_type": "code",
   "execution_count": 22,
   "id": "confident-cancer",
   "metadata": {},
   "outputs": [
    {
     "name": "stderr",
     "output_type": "stream",
     "text": [
      "<ipython-input-22-eec3f94ffd65>:5: UserWarning: Pandas doesn't allow columns to be created via a new attribute name - see https://pandas.pydata.org/pandas-docs/stable/indexing.html#attribute-access\n",
      "  data_clust2.condition = data_clust2.condition_Smile_auto.str.split(\"_\",n=1, expand = True)[1]\n"
     ]
    }
   ],
   "source": [
    "# data = pd.read_csv('test_lme_data.csv')\n",
    "data_clust2 = pd.read_csv('FaNoOcc_NeNoOcc_insta_abs_detrend_lme_smile_cluster_gamma_data_IBS.csv')\n",
    "data_clust2.head()\n",
    "# data = data.iloc[0:7000,]\n",
    "data_clust2.condition = data_clust2.condition_Smile_auto.str.split(\"_\",n=1, expand = True)[1]\n",
    "data_clust2.condition = data_clust2.condition.astype('int')"
   ]
  },
  {
   "cell_type": "code",
   "execution_count": 23,
   "id": "surgical-stock",
   "metadata": {},
   "outputs": [],
   "source": [
    "n_dyads = len(data_clust2.Dyad_no_Gaze_nose_dist.unique())\n",
    "dyad_idx = np.array(data_clust2.Dyad_no_Gaze_nose_dist.str.split(\"_\",n=1, expand = True)[1],dtype='int64')-1\n",
    "\n",
    "with pm.Model() as hierarchical_model_clust_2_null:\n",
    "    # Hyperpriors for group nodes\n",
    "    mu_intercept = pm.Normal(\"mu_intercept\", mu=0.0, sigma=100)\n",
    "    sigma_intercept = pm.HalfNormal(\"sigma_intercept\", 5.0)\n",
    "    mu_eye_gaze = pm.Normal(\"mu_eye_gaze\", mu=0.0, sigma=100)\n",
    "    sigma_eye_gaze = pm.HalfNormal(\"sigma_eye_gaze\", 5.0)    \n",
    "  \n",
    "    mu_mouth_size = pm.Normal(\"mu_mouth_size\", mu=0.0, sigma=100)\n",
    "    sigma_mouth_size = pm.HalfNormal(\"sigma_mouth_size\", 5.0)  \n",
    "    \n",
    "    mu_mov = pm.Normal(\"mu_mov\", mu=0.0, sigma=100)\n",
    "    sigma_mov = pm.HalfNormal(\"sigma_mov\", 5.0)     \n",
    "    \n",
    "    \n",
    "    # Intercept for each county, distributed around group mean mu_a\n",
    "    # Above we just set mu and sd to a fixed value while here we\n",
    "    # plug in a common group distribution for all a and b (which are\n",
    "    # vectors of length n_counties).\n",
    "    intercept = pm.Normal(\"intercept\", mu=mu_intercept, sigma=sigma_intercept, shape=n_dyads)\n",
    "    # Intercept for each county, distributed around group mean mu_a\n",
    "    eye_gaze = pm.Normal(\"eye_gaze\", mu=mu_eye_gaze, sigma=sigma_eye_gaze, shape=n_dyads)\n",
    "    mouth_size = pm.Normal(\"mouth_size\", mu=mu_mouth_size, sigma=sigma_mouth_size, shape=n_dyads)\n",
    "    mov = pm.Normal(\"mov\", mu=mu_mov, sigma=sigma_mov, shape=n_dyads)\n",
    "    # Model error\n",
    "    eps = pm.HalfCauchy(\"eps\", 5.0)\n",
    "    #pdb.set_trace()\n",
    "#     feature_est = intercept[dyad_idx]  + condition[dyad_idx] * data.condition.values +  eye_gaze[dyad_idx] * data.eye_gaze_distance_joint.values + mouth_size[dyad_idx] * data.mouth_size_joint.values + e[dyad_idx] * data.ALL.values\n",
    "    feature_est = intercept[dyad_idx]  \n",
    "\n",
    "    # Data likelihood\n",
    "    feature_like = pm.Normal(\"feature_like\", mu=feature_est, sigma=eps, observed=data_clust2.chan_freq_data)\n",
    "#     hierarchical_trace_clust_2_null = pm.sample(samples, tune=tune, target_accept=0.99)"
   ]
  },
  {
   "cell_type": "code",
   "execution_count": 24,
   "id": "allied-pledge",
   "metadata": {},
   "outputs": [],
   "source": [
    "# trace 18\n",
    "# hierarchical_trace_clust_2_null_save = pm.save_trace(hierarchical_trace_clust_2_null,directory='.null_model_clust_2_abs_glm.trace')"
   ]
  },
  {
   "cell_type": "code",
   "execution_count": 25,
   "id": "different-delaware",
   "metadata": {},
   "outputs": [],
   "source": [
    "with hierarchical_model_clust_2_null:\n",
    "    hierarchical_trace_clust_2_null = pm.load_trace(\".null_model_clust_2_abs_glm_2500.trace\")"
   ]
  },
  {
   "cell_type": "code",
   "execution_count": 26,
   "id": "dental-newcastle",
   "metadata": {},
   "outputs": [],
   "source": [
    "n_dyads = len(data_clust2.Dyad_no_Gaze_nose_dist.unique())\n",
    "dyad_idx = np.array(data_clust2.Dyad_no_Gaze_nose_dist.str.split(\"_\",n=1, expand = True)[1],dtype='int64')-1\n",
    "\n",
    "with pm.Model() as hierarchical_model_clust_2:\n",
    "    # Hyperpriors for group nodes\n",
    "    mu_intercept = pm.Normal(\"mu_intercept\", mu=0.0, sigma=100)\n",
    "    sigma_intercept = pm.HalfNormal(\"sigma_intercept\", 5.0)\n",
    "    mu_eye_gaze = pm.Normal(\"mu_eye_gaze\", mu=0.0, sigma=100)\n",
    "    sigma_eye_gaze = pm.HalfNormal(\"sigma_eye_gaze\", 5.0)    \n",
    "  \n",
    "    mu_mouth_size = pm.Normal(\"mu_mouth_size\", mu=0.0, sigma=100)\n",
    "    sigma_mouth_size = pm.HalfNormal(\"sigma_mouth_size\", 5.0)  \n",
    "    \n",
    "    mu_mov = pm.Normal(\"mu_mov\", mu=0.0, sigma=100)\n",
    "    sigma_mov = pm.HalfNormal(\"sigma_mov\", 5.0)     \n",
    "    \n",
    "    \n",
    "    # Intercept for each county, distributed around group mean mu_a\n",
    "    # Above we just set mu and sd to a fixed value while here we\n",
    "    # plug in a common group distribution for all a and b (which are\n",
    "    # vectors of length n_counties).\n",
    "    intercept = pm.Normal(\"intercept\", mu=mu_intercept, sigma=sigma_intercept, shape=n_dyads)\n",
    "    # Intercept for each county, distributed around group mean mu_a\n",
    "    eye_gaze = pm.Normal(\"eye_gaze\", mu=mu_eye_gaze, sigma=sigma_eye_gaze, shape=n_dyads)\n",
    "    mouth_size = pm.Normal(\"mouth_size\", mu=mu_mouth_size, sigma=sigma_mouth_size, shape=n_dyads)\n",
    "    mov = pm.Normal(\"mov\", mu=mu_mov, sigma=sigma_mov, shape=n_dyads)\n",
    "    # Model error\n",
    "    eps = pm.HalfCauchy(\"eps\", 5.0)\n",
    "    #pdb.set_trace()\n",
    "#     feature_est = intercept[dyad_idx]  + condition[dyad_idx] * data.condition.values +  eye_gaze[dyad_idx] * data.eye_gaze_distance_joint.values + mouth_size[dyad_idx] * data.mouth_size_joint.values + e[dyad_idx] * data.ALL.values\n",
    "    feature_est = intercept[dyad_idx]  +  eye_gaze[dyad_idx] * data_clust2.eye_gaze_distance_joint.values + mouth_size[dyad_idx] * data_clust2.mouth_size_joint.values +  mov[dyad_idx] * data_clust2.ALL_joint.values\n",
    "\n",
    "    # Data likelihood\n",
    "    feature_like = pm.Normal(\"feature_like\", mu=feature_est, sigma=eps, observed=data_clust2.chan_freq_data)\n",
    "#     hierarchical_trace_clust_2 = pm.sample(samples, tune=tune, target_accept=0.99)"
   ]
  },
  {
   "cell_type": "code",
   "execution_count": 27,
   "id": "objective-trader",
   "metadata": {},
   "outputs": [],
   "source": [
    "# trace 19\n",
    "# hierarchical_trace_clust_2_save = pm.save_trace(hierarchical_trace_clust_2,directory='.model_clust_2_abs_glm.trace')"
   ]
  },
  {
   "cell_type": "code",
   "execution_count": 28,
   "id": "instrumental-physiology",
   "metadata": {},
   "outputs": [],
   "source": [
    "with hierarchical_model_clust_2:\n",
    "    hierarchical_trace_clust_2 = pm.load_trace(\".model_clust_2_abs_glm_2500.trace\")"
   ]
  },
  {
   "cell_type": "code",
   "execution_count": 29,
   "id": "heavy-photograph",
   "metadata": {},
   "outputs": [
    {
     "name": "stdout",
     "output_type": "stream",
     "text": [
      "0.5434\n",
      "0.0\n",
      "0.0002\n"
     ]
    }
   ],
   "source": [
    "print(np.sum(hierarchical_trace_clust_2['mu_eye_gaze']<0)/len(hierarchical_trace_clust_2['mu_eye_gaze']))\n",
    "print(np.sum(hierarchical_trace_clust_2['mu_mouth_size']<0)/len(hierarchical_trace_clust_2['mu_mouth_size']))\n",
    "print(np.sum(hierarchical_trace_clust_2['mu_mov']<0)/len(hierarchical_trace_clust_2['mu_mov']))\n"
   ]
  },
  {
   "cell_type": "code",
   "execution_count": 30,
   "id": "covered-rendering",
   "metadata": {},
   "outputs": [],
   "source": [
    "# az.plot_posterior(hierarchical_trace_clust_2, var_names=[\"mu_eye_gaze\",\"mu_mouth_size\", \"mu_mov\"],ref_val=0,linewidth=2)"
   ]
  },
  {
   "cell_type": "code",
   "execution_count": 31,
   "id": "responsible-length",
   "metadata": {},
   "outputs": [],
   "source": [
    "# root_dir = \"E:\\\\Projects\\\\IBS\\\\Results\\\\EEG\\\\Brain_behavior_glm_power_freqwise\\\\no_aggressive_CAR_ASR_10_ICA_appended_trials\\\\figures\\\\\"\n",
    "# fig = plt.figure()\n",
    "# ax = fig.add_subplot(111)\n",
    "# a = az.plot_posterior(hierarchical_trace_clust_2, var_names=[\"mu_eye_gaze\"],ref_val=0,linewidth=2,ax =ax,hdi_prob=0.90)\n",
    "# fig.savefig(root_dir + \"GLM_cluster_2_eye_insta_abs_detrend_smile_cor7.eps\",format='eps')\n",
    "# fig = plt.figure()\n",
    "# ax = fig.add_subplot(111)\n",
    "# a = az.plot_posterior(hierarchical_trace_clust_2, var_names=[\"mu_mouth_size\"],ref_val=0,linewidth=2,ax =ax,hdi_prob=0.90)\n",
    "# fig.savefig(root_dir + \"GLM_cluster_2_mouth_insta_abs_detrend_smile_cor7.eps\",format='eps')\n",
    "# fig = plt.figure()\n",
    "# ax = fig.add_subplot(111)\n",
    "# a = az.plot_posterior(hierarchical_trace_clust_2, var_names=[\"mu_mov\"],ref_val=0,linewidth=2,ax =ax,hdi_prob=0.90)\n",
    "# fig.savefig(root_dir + \"GLM_cluster_2_mov_insta_abs_detrend_smile_cor7.eps\",format='eps')\n",
    "\n"
   ]
  },
  {
   "cell_type": "code",
   "execution_count": 32,
   "id": "built-investigation",
   "metadata": {},
   "outputs": [],
   "source": [
    "# df_trace = pm.trace_to_dataframe(hierarchical_trace_clust_2)"
   ]
  },
  {
   "cell_type": "code",
   "execution_count": 33,
   "id": "buried-england",
   "metadata": {},
   "outputs": [],
   "source": [
    "# az.rhat(hierarchical_trace_clust_1)"
   ]
  },
  {
   "cell_type": "code",
   "execution_count": 34,
   "id": "timely-basic",
   "metadata": {},
   "outputs": [],
   "source": [
    "# az.rhat(hierarchical_trace_clust_2)"
   ]
  },
  {
   "cell_type": "code",
   "execution_count": 35,
   "id": "dutch-killing",
   "metadata": {},
   "outputs": [],
   "source": [
    "# hierarchical_trace_clust_1_null = az.from_pymc3(hierarchical_trace_clust_1_null)\n",
    "# hierarchical_trace_clust_1 = az.from_pymc3(hierarchical_trace_clust_1)\n",
    "\n",
    "# compare_dict = {\"null\": hierarchical_trace_clust_1_null, \"clust_1\": hierarchical_trace_clust_1}\n",
    "# az.compare(compare_dict)"
   ]
  },
  {
   "cell_type": "code",
   "execution_count": 36,
   "id": "disabled-stroke",
   "metadata": {},
   "outputs": [
    {
     "name": "stderr",
     "output_type": "stream",
     "text": [
      "C:\\Users\\SuperLabPC\\anaconda3\\envs\\pymc\\lib\\site-packages\\arviz\\data\\io_pymc3.py:96: FutureWarning: Using `from_pymc3` without the model will be deprecated in a future release. Not using the model will return less accurate and less useful results. Make sure you use the model argument or call from_pymc3 within a model context.\n",
      "  warnings.warn(\n",
      "C:\\Users\\SuperLabPC\\anaconda3\\envs\\pymc\\lib\\site-packages\\arviz\\stats\\stats.py:145: UserWarning: The default method used to estimate the weights for each model,has changed from BB-pseudo-BMA to stacking\n",
      "  warnings.warn(\n",
      "C:\\Users\\SuperLabPC\\anaconda3\\envs\\pymc\\lib\\site-packages\\arviz\\stats\\stats.py:876: RuntimeWarning: overflow encountered in exp\n",
      "  weights = 1 / np.exp(len_scale - len_scale[:, None]).sum(axis=1)\n",
      "C:\\Users\\SuperLabPC\\anaconda3\\envs\\pymc\\lib\\site-packages\\numpy\\core\\_methods.py:47: RuntimeWarning: overflow encountered in reduce\n",
      "  return umr_sum(a, axis, dtype, out, keepdims, initial, where)\n"
     ]
    },
    {
     "data": {
      "text/html": [
       "<div>\n",
       "<style scoped>\n",
       "    .dataframe tbody tr th:only-of-type {\n",
       "        vertical-align: middle;\n",
       "    }\n",
       "\n",
       "    .dataframe tbody tr th {\n",
       "        vertical-align: top;\n",
       "    }\n",
       "\n",
       "    .dataframe thead th {\n",
       "        text-align: right;\n",
       "    }\n",
       "</style>\n",
       "<table border=\"1\" class=\"dataframe\">\n",
       "  <thead>\n",
       "    <tr style=\"text-align: right;\">\n",
       "      <th></th>\n",
       "      <th>rank</th>\n",
       "      <th>loo</th>\n",
       "      <th>p_loo</th>\n",
       "      <th>d_loo</th>\n",
       "      <th>weight</th>\n",
       "      <th>se</th>\n",
       "      <th>dse</th>\n",
       "      <th>warning</th>\n",
       "      <th>loo_scale</th>\n",
       "    </tr>\n",
       "  </thead>\n",
       "  <tbody>\n",
       "    <tr>\n",
       "      <th>clust_1</th>\n",
       "      <td>0</td>\n",
       "      <td>-223359.724709</td>\n",
       "      <td>58.501048</td>\n",
       "      <td>0.000000</td>\n",
       "      <td>1.0</td>\n",
       "      <td>327.984708</td>\n",
       "      <td>0.000000</td>\n",
       "      <td>False</td>\n",
       "      <td>log</td>\n",
       "    </tr>\n",
       "    <tr>\n",
       "      <th>null</th>\n",
       "      <td>1</td>\n",
       "      <td>-223632.614923</td>\n",
       "      <td>3.564646</td>\n",
       "      <td>272.890215</td>\n",
       "      <td>0.0</td>\n",
       "      <td>328.334685</td>\n",
       "      <td>23.187599</td>\n",
       "      <td>False</td>\n",
       "      <td>log</td>\n",
       "    </tr>\n",
       "  </tbody>\n",
       "</table>\n",
       "</div>"
      ],
      "text/plain": [
       "         rank            loo      p_loo       d_loo  weight          se  \\\n",
       "clust_1     0 -223359.724709  58.501048    0.000000     1.0  327.984708   \n",
       "null        1 -223632.614923   3.564646  272.890215     0.0  328.334685   \n",
       "\n",
       "               dse  warning loo_scale  \n",
       "clust_1   0.000000    False       log  \n",
       "null     23.187599    False       log  "
      ]
     },
     "execution_count": 36,
     "metadata": {},
     "output_type": "execute_result"
    }
   ],
   "source": [
    "hierarchical_trace_clust_2_null_az = az.from_pymc3(hierarchical_trace_clust_2_null)\n",
    "hierarchical_trace_clust_2_az = az.from_pymc3(hierarchical_trace_clust_2)\n",
    "\n",
    "compare_dict = {\"null\": hierarchical_trace_clust_2_null_az, \"clust_1\": hierarchical_trace_clust_2_az}\n",
    "az.compare(compare_dict)"
   ]
  },
  {
   "cell_type": "code",
   "execution_count": null,
   "id": "level-debut",
   "metadata": {},
   "outputs": [],
   "source": []
  },
  {
   "cell_type": "code",
   "execution_count": 37,
   "id": "sixth-japanese",
   "metadata": {},
   "outputs": [],
   "source": [
    "# az.rhat(hierarchical_trace_clust_2,var_names=[\"mu_eye_gaze\", \"mu_mouth_size\",\"mu_mov\"])"
   ]
  },
  {
   "cell_type": "code",
   "execution_count": 38,
   "id": "final-friend",
   "metadata": {},
   "outputs": [],
   "source": [
    "%reset -f"
   ]
  },
  {
   "cell_type": "code",
   "execution_count": 39,
   "id": "brown-greene",
   "metadata": {},
   "outputs": [
    {
     "name": "stdout",
     "output_type": "stream",
     "text": [
      "Running on PyMC3 v3.11.2\n"
     ]
    }
   ],
   "source": [
    "import pdb\n",
    "\n",
    "\n",
    "import arviz as az\n",
    "import matplotlib.pyplot as plt\n",
    "import numpy as np\n",
    "import pandas as pd\n",
    "import pymc3 as pm\n",
    "import theano\n",
    "import pandas as pd\n",
    "print(f\"Running on PyMC3 v{pm.__version__}\")\n",
    "%config InlineBackend.figure_format = 'retina'\n",
    "az.style.use(\"arviz-darkgrid\")"
   ]
  },
  {
   "cell_type": "code",
   "execution_count": 40,
   "id": "juvenile-ordering",
   "metadata": {},
   "outputs": [
    {
     "name": "stderr",
     "output_type": "stream",
     "text": [
      "<ipython-input-40-1876bfe8747f>:6: UserWarning: Pandas doesn't allow columns to be created via a new attribute name - see https://pandas.pydata.org/pandas-docs/stable/indexing.html#attribute-access\n",
      "  data_clust3.condition = data_clust3.condition_Smile_auto.str.split(\"_\",n=1, expand = True)[1]\n"
     ]
    }
   ],
   "source": [
    "# data = pd.read_csv('test_lme_data.csv')FaNoOcc_NeNoOcc_insta_corr_avg_freqwise_lme_smile_cluster_3_data_IBS\n",
    "data_clust3 = pd.read_csv('FaNoOcc_NeNoOcc_insta_abs_detrend_lme_smile_cluster_alpha_data_IBS.csv')\n",
    "\n",
    "data_clust3.head()\n",
    "# data = data.iloc[0:7000,]\n",
    "data_clust3.condition = data_clust3.condition_Smile_auto.str.split(\"_\",n=1, expand = True)[1]\n",
    "data_clust3.condition = data_clust3.condition.astype('int')"
   ]
  },
  {
   "cell_type": "code",
   "execution_count": 41,
   "id": "purple-penetration",
   "metadata": {},
   "outputs": [],
   "source": [
    "n_dyads = len(data_clust3.Dyad_no_Gaze_nose_dist.unique())\n",
    "dyad_idx = np.array(data_clust3.Dyad_no_Gaze_nose_dist.str.split(\"_\",n=1, expand = True)[1],dtype='int64')-1\n",
    "\n",
    "with pm.Model() as hierarchical_model_clust_3_null:\n",
    "    # Hyperpriors for group nodes\n",
    "    mu_intercept = pm.Normal(\"mu_intercept\", mu=0.0, sigma=100)\n",
    "    sigma_intercept = pm.HalfNormal(\"sigma_intercept\", 5.0)\n",
    "    mu_eye_gaze = pm.Normal(\"mu_eye_gaze\", mu=0.0, sigma=100)\n",
    "    sigma_eye_gaze = pm.HalfNormal(\"sigma_eye_gaze\", 5.0)    \n",
    "  \n",
    "    mu_mouth_size = pm.Normal(\"mu_mouth_size\", mu=0.0, sigma=100)\n",
    "    sigma_mouth_size = pm.HalfNormal(\"sigma_mouth_size\", 5.0)  \n",
    "    \n",
    "    mu_mov = pm.Normal(\"mu_mov\", mu=0.0, sigma=100)\n",
    "    sigma_mov = pm.HalfNormal(\"sigma_mov\", 5.0)     \n",
    "    \n",
    "    \n",
    "    # Intercept for each county, distributed around group mean mu_a\n",
    "    # Above we just set mu and sd to a fixed value while here we\n",
    "    # plug in a common group distribution for all a and b (which are\n",
    "    # vectors of length n_counties).\n",
    "    intercept = pm.Normal(\"intercept\", mu=mu_intercept, sigma=sigma_intercept, shape=n_dyads)\n",
    "    # Intercept for each county, distributed around group mean mu_a\n",
    "    eye_gaze = pm.Normal(\"eye_gaze\", mu=mu_eye_gaze, sigma=sigma_eye_gaze, shape=n_dyads)\n",
    "    mouth_size = pm.Normal(\"mouth_size\", mu=mu_mouth_size, sigma=sigma_mouth_size, shape=n_dyads)\n",
    "    mov = pm.Normal(\"mov\", mu=mu_mov, sigma=sigma_mov, shape=n_dyads)\n",
    "    # Model error\n",
    "    eps = pm.HalfCauchy(\"eps\", 5.0)\n",
    "    #pdb.set_trace()\n",
    "#     feature_est = intercept[dyad_idx]  + condition[dyad_idx] * data.condition.values +  eye_gaze[dyad_idx] * data.eye_gaze_distance_joint.values + mouth_size[dyad_idx] * data.mouth_size_joint.values + e[dyad_idx] * data.ALL.values\n",
    "    feature_est = intercept[dyad_idx]  \n",
    "\n",
    "    # Data likelihood\n",
    "    feature_like = pm.Normal(\"feature_like\", mu=feature_est, sigma=eps, observed=data_clust3.chan_freq_data)\n",
    "#     hierarchical_trace_clust_3_null = pm.sample(samples, tune=tune, target_accept=0.99)"
   ]
  },
  {
   "cell_type": "code",
   "execution_count": 42,
   "id": "dependent-speed",
   "metadata": {},
   "outputs": [],
   "source": [
    "with hierarchical_model_clust_3_null:\n",
    "    hierarchical_trace_clust_3_null = pm.load_trace(\".null_model_clust_3_abs_glm_2500.trace\")"
   ]
  },
  {
   "cell_type": "code",
   "execution_count": 43,
   "id": "indirect-tongue",
   "metadata": {},
   "outputs": [],
   "source": [
    "n_dyads = len(data_clust3.Dyad_no_Gaze_nose_dist.unique())\n",
    "dyad_idx = np.array(data_clust3.Dyad_no_Gaze_nose_dist.str.split(\"_\",n=1, expand = True)[1],dtype='int64')-1\n",
    "\n",
    "with pm.Model() as hierarchical_model_clust_3:\n",
    "    # Hyperpriors for group nodes\n",
    "    mu_intercept = pm.Normal(\"mu_intercept\", mu=0.0, sigma=100)\n",
    "    sigma_intercept = pm.HalfNormal(\"sigma_intercept\", 5.0)\n",
    "    mu_eye_gaze = pm.Normal(\"mu_eye_gaze\", mu=0.0, sigma=100)\n",
    "    sigma_eye_gaze = pm.HalfNormal(\"sigma_eye_gaze\", 5.0)    \n",
    "  \n",
    "    mu_mouth_size = pm.Normal(\"mu_mouth_size\", mu=0.0, sigma=100)\n",
    "    sigma_mouth_size = pm.HalfNormal(\"sigma_mouth_size\", 5.0)  \n",
    "    \n",
    "    mu_mov = pm.Normal(\"mu_mov\", mu=0.0, sigma=100)\n",
    "    sigma_mov = pm.HalfNormal(\"sigma_mov\", 5.0)     \n",
    "    \n",
    "    \n",
    "    # Intercept for each county, distributed around group mean mu_a\n",
    "    # Above we just set mu and sd to a fixed value while here we\n",
    "    # plug in a common group distribution for all a and b (which are\n",
    "    # vectors of length n_counties).\n",
    "    intercept = pm.Normal(\"intercept\", mu=mu_intercept, sigma=sigma_intercept, shape=n_dyads)\n",
    "    # Intercept for each county, distributed around group mean mu_a\n",
    "    eye_gaze = pm.Normal(\"eye_gaze\", mu=mu_eye_gaze, sigma=sigma_eye_gaze, shape=n_dyads)\n",
    "    mouth_size = pm.Normal(\"mouth_size\", mu=mu_mouth_size, sigma=sigma_mouth_size, shape=n_dyads)\n",
    "    mov = pm.Normal(\"mov\", mu=mu_mov, sigma=sigma_mov, shape=n_dyads)\n",
    "    # Model error\n",
    "    eps = pm.HalfCauchy(\"eps\", 5.0)\n",
    "    #pdb.set_trace()\n",
    "#     feature_est = intercept[dyad_idx]  + condition[dyad_idx] * data.condition.values +  eye_gaze[dyad_idx] * data.eye_gaze_distance_joint.values + mouth_size[dyad_idx] * data.mouth_size_joint.values + e[dyad_idx] * data.ALL.values\n",
    "    feature_est = intercept[dyad_idx]  +  eye_gaze[dyad_idx] * data_clust3.eye_gaze_distance_joint.values + mouth_size[dyad_idx] * data_clust3.mouth_size_joint.values +  mov[dyad_idx] * data_clust3.ALL_joint.values\n",
    "\n",
    "    # Data likelihood\n",
    "    feature_like = pm.Normal(\"feature_like\", mu=feature_est, sigma=eps, observed=data_clust3.chan_freq_data)\n",
    "#     hierarchical_trace_clust_3 = pm.sample(samples, tune=tune, target_accept=0.99)"
   ]
  },
  {
   "cell_type": "code",
   "execution_count": 44,
   "id": "spatial-respect",
   "metadata": {},
   "outputs": [],
   "source": [
    "with hierarchical_model_clust_3:\n",
    "    hierarchical_trace_clust_3 = pm.load_trace(\".model_clust_3_abs_glm_2500.trace\")"
   ]
  },
  {
   "cell_type": "code",
   "execution_count": 45,
   "id": "narrative-borough",
   "metadata": {},
   "outputs": [
    {
     "name": "stdout",
     "output_type": "stream",
     "text": [
      "0.2676\n",
      "0.572\n",
      "0.8422\n"
     ]
    }
   ],
   "source": [
    "print(np.sum(hierarchical_trace_clust_3['mu_eye_gaze']<0)/len(hierarchical_trace_clust_3['mu_eye_gaze']))\n",
    "print(np.sum(hierarchical_trace_clust_3['mu_mouth_size']<0)/len(hierarchical_trace_clust_3['mu_mouth_size']))\n",
    "print(np.sum(hierarchical_trace_clust_3['mu_mov']<0)/len(hierarchical_trace_clust_3['mu_mov']))\n"
   ]
  },
  {
   "cell_type": "code",
   "execution_count": 46,
   "id": "seven-depth",
   "metadata": {},
   "outputs": [
    {
     "name": "stderr",
     "output_type": "stream",
     "text": [
      "C:\\Users\\SuperLabPC\\anaconda3\\envs\\pymc\\lib\\site-packages\\arviz\\data\\io_pymc3.py:96: FutureWarning: Using `from_pymc3` without the model will be deprecated in a future release. Not using the model will return less accurate and less useful results. Make sure you use the model argument or call from_pymc3 within a model context.\n",
      "  warnings.warn(\n",
      "C:\\Users\\SuperLabPC\\anaconda3\\envs\\pymc\\lib\\site-packages\\arviz\\stats\\stats.py:145: UserWarning: The default method used to estimate the weights for each model,has changed from BB-pseudo-BMA to stacking\n",
      "  warnings.warn(\n",
      "C:\\Users\\SuperLabPC\\anaconda3\\envs\\pymc\\lib\\site-packages\\arviz\\stats\\stats.py:876: RuntimeWarning: overflow encountered in exp\n",
      "  weights = 1 / np.exp(len_scale - len_scale[:, None]).sum(axis=1)\n",
      "C:\\Users\\SuperLabPC\\anaconda3\\envs\\pymc\\lib\\site-packages\\numpy\\core\\_methods.py:47: RuntimeWarning: overflow encountered in reduce\n",
      "  return umr_sum(a, axis, dtype, out, keepdims, initial, where)\n"
     ]
    },
    {
     "data": {
      "text/html": [
       "<div>\n",
       "<style scoped>\n",
       "    .dataframe tbody tr th:only-of-type {\n",
       "        vertical-align: middle;\n",
       "    }\n",
       "\n",
       "    .dataframe tbody tr th {\n",
       "        vertical-align: top;\n",
       "    }\n",
       "\n",
       "    .dataframe thead th {\n",
       "        text-align: right;\n",
       "    }\n",
       "</style>\n",
       "<table border=\"1\" class=\"dataframe\">\n",
       "  <thead>\n",
       "    <tr style=\"text-align: right;\">\n",
       "      <th></th>\n",
       "      <th>rank</th>\n",
       "      <th>loo</th>\n",
       "      <th>p_loo</th>\n",
       "      <th>d_loo</th>\n",
       "      <th>weight</th>\n",
       "      <th>se</th>\n",
       "      <th>dse</th>\n",
       "      <th>warning</th>\n",
       "      <th>loo_scale</th>\n",
       "    </tr>\n",
       "  </thead>\n",
       "  <tbody>\n",
       "    <tr>\n",
       "      <th>clust_1</th>\n",
       "      <td>0</td>\n",
       "      <td>-224594.525923</td>\n",
       "      <td>38.520849</td>\n",
       "      <td>0.000000</td>\n",
       "      <td>0.888303</td>\n",
       "      <td>259.726523</td>\n",
       "      <td>0.000000</td>\n",
       "      <td>False</td>\n",
       "      <td>log</td>\n",
       "    </tr>\n",
       "    <tr>\n",
       "      <th>null</th>\n",
       "      <td>1</td>\n",
       "      <td>-224615.002957</td>\n",
       "      <td>3.308509</td>\n",
       "      <td>20.477034</td>\n",
       "      <td>0.111697</td>\n",
       "      <td>259.729563</td>\n",
       "      <td>7.261084</td>\n",
       "      <td>False</td>\n",
       "      <td>log</td>\n",
       "    </tr>\n",
       "  </tbody>\n",
       "</table>\n",
       "</div>"
      ],
      "text/plain": [
       "         rank            loo      p_loo      d_loo    weight          se  \\\n",
       "clust_1     0 -224594.525923  38.520849   0.000000  0.888303  259.726523   \n",
       "null        1 -224615.002957   3.308509  20.477034  0.111697  259.729563   \n",
       "\n",
       "              dse  warning loo_scale  \n",
       "clust_1  0.000000    False       log  \n",
       "null     7.261084    False       log  "
      ]
     },
     "execution_count": 46,
     "metadata": {},
     "output_type": "execute_result"
    }
   ],
   "source": [
    "hierarchical_trace_clust_3_null_az = az.from_pymc3(hierarchical_trace_clust_3_null)\n",
    "hierarchical_trace_clust_3_az = az.from_pymc3(hierarchical_trace_clust_3)\n",
    "compare_dict = {\"null\": hierarchical_trace_clust_3_null_az, \"clust_1\": hierarchical_trace_clust_3_az}\n",
    "az.compare(compare_dict)"
   ]
  },
  {
   "cell_type": "code",
   "execution_count": 47,
   "id": "grave-grave",
   "metadata": {},
   "outputs": [],
   "source": [
    "# az.rhat(hierarchical_trace_clust_3,var_names=[\"mu_eye_gaze\", \"mu_mouth_size\",\"mu_mov\"])"
   ]
  },
  {
   "cell_type": "code",
   "execution_count": 48,
   "id": "possible-temperature",
   "metadata": {},
   "outputs": [],
   "source": [
    "# root_dir = \"E:\\\\Projects\\\\IBS\\\\Results\\\\EEG\\\\Brain_behavior_glm_power_freqwise\\\\no_aggressive_CAR_ASR_10_ICA_appended_trials\\\\figures\\\\\"\n",
    "# fig = plt.figure()\n",
    "# ax = fig.add_subplot(111)\n",
    "# a = az.plot_posterior(hierarchical_trace_clust_3, var_names=[\"mu_eye_gaze\"],ref_val=0,linewidth=2,ax =ax,hdi_prob=0.90)\n",
    "# fig.savefig(root_dir + \"GLM_cluster_3_eye_insta_abs_detrend_smile_cor7.eps\",format='eps')\n",
    "# fig = plt.figure()\n",
    "# ax = fig.add_subplot(111)\n",
    "# a = az.plot_posterior(hierarchical_trace_clust_3, var_names=[\"mu_mouth_size\"],ref_val=0,linewidth=2,ax =ax,hdi_prob=0.90)\n",
    "# fig.savefig(root_dir + \"GLM_cluster_3_mouth_insta_abs_detrend_smile_cor7.eps\",format='eps')\n",
    "# fig = plt.figure()\n",
    "# ax = fig.add_subplot(111)\n",
    "# a = az.plot_posterior(hierarchical_trace_clust_3, var_names=[\"mu_mov\"],ref_val=0,linewidth=2,ax =ax,hdi_prob=0.90)\n",
    "# fig.savefig(root_dir + \"GLM_cluster_3_mov_insta_abs_detrend_smile_cor7.eps\",format='eps')\n",
    "\n"
   ]
  },
  {
   "cell_type": "code",
   "execution_count": 49,
   "id": "reflected-cassette",
   "metadata": {},
   "outputs": [],
   "source": [
    "# az.plot_posterior(hierarchical_trace_clust_3, var_names=[\"mu_eye_gaze\"],ref_val=0,linewidth=2,hdi_prob=0.90,bw=0.0001)"
   ]
  },
  {
   "cell_type": "code",
   "execution_count": null,
   "id": "actual-savings",
   "metadata": {},
   "outputs": [],
   "source": []
  },
  {
   "cell_type": "code",
   "execution_count": null,
   "id": "incorporated-anatomy",
   "metadata": {},
   "outputs": [],
   "source": []
  },
  {
   "cell_type": "code",
   "execution_count": 50,
   "id": "blond-footage",
   "metadata": {},
   "outputs": [],
   "source": [
    "# pm.plot_trace(hierarchical_trace_clust_1, var_names=[\"mu_eye_gaze\",\"mu_mouth_size\", \"mu_mov\"]);"
   ]
  },
  {
   "cell_type": "code",
   "execution_count": 51,
   "id": "bacterial-cooler",
   "metadata": {},
   "outputs": [],
   "source": [
    "# pm.plot_trace(hierarchical_trace_clust_2, var_names=[\"mu_eye_gaze\",\"mu_mouth_size\", \"mu_mov\"]);"
   ]
  },
  {
   "cell_type": "code",
   "execution_count": null,
   "id": "regulated-forestry",
   "metadata": {},
   "outputs": [],
   "source": []
  },
  {
   "cell_type": "code",
   "execution_count": 52,
   "id": "forward-scottish",
   "metadata": {},
   "outputs": [],
   "source": [
    "#  az.hdi(hierarchical_trace_clust_2,  var_names=[\"mu_eye_gaze\",\"mu_mouth_size\", \"mu_mov\"])"
   ]
  },
  {
   "cell_type": "code",
   "execution_count": 53,
   "id": "accepted-sheep",
   "metadata": {},
   "outputs": [],
   "source": [
    "# az.plot_posterior(hierarchical_trace_clust_2, var_names=[\"mu_eye_gaze\",\"mu_mouth_size\", \"mu_mov\"], ref_val=0)"
   ]
  },
  {
   "cell_type": "code",
   "execution_count": 54,
   "id": "boxed-savings",
   "metadata": {},
   "outputs": [],
   "source": [
    "# n_dyads = len(data_clust3.Dyad_no_Gaze_nose_dist.unique())\n",
    "# dyad_idx = np.array(data_clust3.Dyad_no_Gaze_nose_dist.str.split(\"_\",n=1, expand = True)[1],dtype='int64')-1\n",
    "\n",
    "# with pm.Model() as hierarchical_model_clust_3:\n",
    "#     # Hyperpriors for group nodes\n",
    "#     mu_intercept = pm.Normal(\"mu_intercept\", mu=0.0, sigma=100)\n",
    "#     sigma_intercept = pm.HalfNormal(\"sigma_intercept\", 5.0)\n",
    "#     mu_eye_gaze = pm.Normal(\"mu_eye_contact\", mu=0.0, sigma=100)\n",
    "#     sigma_eye_gaze = pm.HalfNormal(\"sigma_eye_contact\", 5.0)    \n",
    "  \n",
    "#     mu_mouth_size = pm.Normal(\"mu_smiling_behavior\", mu=0.0, sigma=100)\n",
    "#     sigma_mouth_size = pm.HalfNormal(\"sigma_smiling_behavior\", 5.0)  \n",
    "    \n",
    "#     mu_mov = pm.Normal(\"mu_body_movements\", mu=0.0, sigma=100)\n",
    "#     sigma_mov = pm.HalfNormal(\"sigma_body_movements\", 5.0)     \n",
    "    \n",
    "    \n",
    "#     # Intercept for each county, distributed around group mean mu_a\n",
    "#     # Above we just set mu and sd to a fixed value while here we\n",
    "#     # plug in a common group distribution for all a and b (which are\n",
    "#     # vectors of length n_counties).\n",
    "#     intercept = pm.Normal(\"intercept\", mu=mu_intercept, sigma=sigma_intercept, shape=n_dyads)\n",
    "#     # Intercept for each county, distributed around group mean mu_a\n",
    "#     eye_gaze = pm.Normal(\"eye_contact\", mu=mu_eye_gaze, sigma=sigma_eye_gaze, shape=n_dyads)\n",
    "#     mouth_size = pm.Normal(\"smiling_behavior\", mu=mu_mouth_size, sigma=sigma_mouth_size, shape=n_dyads)\n",
    "#     mov = pm.Normal(\"body_movements\", mu=mu_mov, sigma=sigma_mov, shape=n_dyads)\n",
    "#     # Model error\n",
    "#     eps = pm.HalfCauchy(\"eps\", 5.0)\n",
    "#     #pdb.set_trace()\n",
    "# #     feature_est = intercept[dyad_idx]  + condition[dyad_idx] * data.condition.values +  eye_gaze[dyad_idx] * data.eye_gaze_distance_joint.values + mouth_size[dyad_idx] * data.mouth_size_joint.values + e[dyad_idx] * data.ALL.values\n",
    "#     feature_est = intercept[dyad_idx]  +  eye_gaze[dyad_idx] * data_clust3.eye_gaze_distance_joint.values + mouth_size[dyad_idx] * data_clust3.mouth_size_joint.values +  mov[dyad_idx] * data_clust3.ALL_joint.values\n",
    "\n",
    "#     # Data likelihood\n",
    "#     feature_like = pm.Normal(\"feature_like\", mu=feature_est, sigma=eps, observed=data_clust3.chan_freq_data)\n",
    "# #     hierarchical_trace_clust_3 = pm.sample(samples, tune=tune, target_accept=0.99)"
   ]
  },
  {
   "cell_type": "code",
   "execution_count": 55,
   "id": "single-builder",
   "metadata": {},
   "outputs": [],
   "source": [
    "# gv = pm.model_graph.model_to_graphviz(hierarchical_model_clust_3)\n",
    "# gv.render(filename=root_dir+'GLM_model')"
   ]
  },
  {
   "cell_type": "code",
   "execution_count": 56,
   "id": "hispanic-mercury",
   "metadata": {},
   "outputs": [],
   "source": [
    "# gv.render(filename=root_dir+'GLM_model.pdf')"
   ]
  },
  {
   "cell_type": "code",
   "execution_count": 57,
   "id": "present-musical",
   "metadata": {},
   "outputs": [],
   "source": [
    "# hierarchical_model_clust_3.vars"
   ]
  },
  {
   "cell_type": "code",
   "execution_count": 58,
   "id": "clinical-chinese",
   "metadata": {},
   "outputs": [],
   "source": [
    "# with hierarchical_model_clust_1:\n",
    "#     post_pred_clust_1 = pm.sample_posterior_predictive(hierarchical_trace_clust_1)\n",
    "# # add posterior predictive to the InferenceData\n",
    "# az.concat(hierarchical_trace_clust_1, az.from_pymc3(posterior_predictive=post_pred_clust_1), inplace=True)"
   ]
  },
  {
   "cell_type": "code",
   "execution_count": 59,
   "id": "residential-robinson",
   "metadata": {},
   "outputs": [],
   "source": [
    "# hierarchical_trace_clust_1_az = az.from_pymc3(hierarchical_trace_clust_1)"
   ]
  },
  {
   "cell_type": "code",
   "execution_count": 60,
   "id": "finished-coach",
   "metadata": {},
   "outputs": [],
   "source": [
    "# with hierarchical_model_clust_1_null:\n",
    "#     hierarchical_trace_clust_1_null = pm.load_trace(\".pymc_3.trace\")"
   ]
  },
  {
   "cell_type": "code",
   "execution_count": 61,
   "id": "recognized-employment",
   "metadata": {},
   "outputs": [],
   "source": [
    "# hierarchical_trace_clust_1_null_az_model = az.from_pymc3(hierarchical_trace_clust_1_null)"
   ]
  },
  {
   "cell_type": "code",
   "execution_count": 62,
   "id": "corrected-indian",
   "metadata": {},
   "outputs": [],
   "source": [
    "# az.loo(hierarchical_trace_clust_1_null_az_model,hierarchical_model_clust_1_null)"
   ]
  },
  {
   "cell_type": "code",
   "execution_count": null,
   "id": "absolute-reviewer",
   "metadata": {},
   "outputs": [],
   "source": []
  },
  {
   "cell_type": "code",
   "execution_count": 63,
   "id": "experienced-computer",
   "metadata": {},
   "outputs": [],
   "source": [
    "# with hierarchical_model_clust_1:\n",
    "#     hierarchical_trace_clust_1 = pm.load_trace(\".pymc_4.trace\")"
   ]
  },
  {
   "cell_type": "code",
   "execution_count": 64,
   "id": "interpreted-tennis",
   "metadata": {},
   "outputs": [],
   "source": [
    "# hierarchical_trace_clust_1_az_model = az.from_pymc3(hierarchical_trace_clust_1)"
   ]
  },
  {
   "cell_type": "code",
   "execution_count": 65,
   "id": "reasonable-bathroom",
   "metadata": {},
   "outputs": [],
   "source": [
    "# az.loo(hierarchical_trace_clust_1_az_model,hierarchical_model_clust_1)"
   ]
  },
  {
   "cell_type": "code",
   "execution_count": null,
   "id": "global-contrary",
   "metadata": {},
   "outputs": [],
   "source": []
  },
  {
   "cell_type": "code",
   "execution_count": 66,
   "id": "desperate-surface",
   "metadata": {},
   "outputs": [],
   "source": [
    "# hierarchical_trace_clust_1_az_model.to_netcdf('hierarchical_trace_clust_1_az_model')"
   ]
  },
  {
   "cell_type": "code",
   "execution_count": 67,
   "id": "powered-opera",
   "metadata": {},
   "outputs": [],
   "source": [
    "# hierarchical_trace_clust_1_null_az_model.to_netcdf('hierarchical_trace_clust_1_null_az_model')"
   ]
  },
  {
   "cell_type": "code",
   "execution_count": 68,
   "id": "measured-eating",
   "metadata": {},
   "outputs": [],
   "source": [
    "# hierarchical_trace_clust_1_az_model = az.from_netcdf('hierarchical_trace_clust_1_az_model')\n",
    "# hierarchical_trace_clust_1_null_az_model.to_netcdf('hierarchical_trace_clust_1_null_az_model')"
   ]
  },
  {
   "cell_type": "code",
   "execution_count": null,
   "id": "underlying-writing",
   "metadata": {},
   "outputs": [],
   "source": []
  },
  {
   "cell_type": "code",
   "execution_count": 69,
   "id": "efficient-glory",
   "metadata": {},
   "outputs": [],
   "source": [
    "# df_comp_loo = az.compare({\"hierarchical\": hierarchical_trace_clust_1_az_model, \"pooled\": hierarchical_trace_clust_1_null_az_model})\n",
    "# df_comp_loo"
   ]
  },
  {
   "cell_type": "code",
   "execution_count": 70,
   "id": "willing-circular",
   "metadata": {},
   "outputs": [],
   "source": [
    "# print(np.sum(hierarchical_trace_clust_1['mu_eye_gaze']<0)/len(hierarchical_trace_clust_1['mu_eye_gaze']))"
   ]
  },
  {
   "cell_type": "code",
   "execution_count": 71,
   "id": "colored-duration",
   "metadata": {},
   "outputs": [],
   "source": [
    "# with hierarchical_model_clust_2:\n",
    "#     post_pred_clust_2 = pm.sample_posterior_predictive(hierarchical_trace_clust_2)\n",
    "# # add posterior predictive to the InferenceData\n",
    "# az.concat(hierarchical_trace_clust_2, az.from_pymc3(posterior_predictive=post_pred_clust_2), inplace=True)"
   ]
  }
 ],
 "metadata": {
  "kernelspec": {
   "display_name": "pymc_work1",
   "language": "python",
   "name": "pymc"
  },
  "language_info": {
   "codemirror_mode": {
    "name": "ipython",
    "version": 3
   },
   "file_extension": ".py",
   "mimetype": "text/x-python",
   "name": "python",
   "nbconvert_exporter": "python",
   "pygments_lexer": "ipython3",
   "version": "3.9.2"
  }
 },
 "nbformat": 4,
 "nbformat_minor": 5
}
